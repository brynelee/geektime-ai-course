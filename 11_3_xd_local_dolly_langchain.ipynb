{
 "cells": [
  {
   "cell_type": "code",
   "execution_count": 1,
   "metadata": {},
   "outputs": [
    {
     "name": "stderr",
     "output_type": "stream",
     "text": [
      "/home/xiaodong/anaconda3/envs/chatglm/lib/python3.8/site-packages/tqdm/auto.py:21: TqdmWarning: IProgress not found. Please update jupyter and ipywidgets. See https://ipywidgets.readthedocs.io/en/stable/user_install.html\n",
      "  from .autonotebook import tqdm as notebook_tqdm\n"
     ]
    }
   ],
   "source": [
    "import torch\n",
    "from transformers import pipeline\n",
    "\n",
    "generate_text = pipeline(model=\"databricks/dolly-v2-3b\", torch_dtype=torch.bfloat16,\n",
    "                         trust_remote_code=True, device_map=\"auto\", return_full_text=True)\n"
   ]
  },
  {
   "cell_type": "code",
   "execution_count": 2,
   "metadata": {},
   "outputs": [
    {
     "name": "stdout",
     "output_type": "stream",
     "text": [
      "show me a complete demo of bubble sort algorithm implementation in python and it's usage.\n",
      "def bubbleSort(arr):\n",
      "    if len(arr) <= 1:\n",
      "        return arr\n",
      "\n",
      "    longest = arr[0]\n",
      "    sortedList = []\n",
      "    for i in range(1, len(arr)):\n",
      "        for j in range(i + 1, len(arr)):\n",
      "            if arr[j] > arr[i]:\n",
      "                temp = arr[j]\n",
      "                arr[j] = arr[i]\n",
      "                arr[i] = temp\n",
      "                sortedList.append(sorted(range(i,j+1), reverse=True))\n",
      "\n",
      "    return sorted(sortedList)\n",
      "\n",
      "\n",
      "demo of bubble sort in python\n"
     ]
    }
   ],
   "source": [
    "query = \"show me a complete demo of bubble sort algorithm implementation in python and it's usage.\"\n",
    "\n",
    "res = generate_text(query)\n",
    "\n",
    "print(res[0][\"generated_text\"])\n"
   ]
  },
  {
   "cell_type": "code",
   "execution_count": 4,
   "metadata": {},
   "outputs": [
    {
     "name": "stdout",
     "output_type": "stream",
     "text": [
      "show me a complete demo of bubble sort algorithm implementation in python and it's usage.\n",
      "def bubbleSort(arr):\n",
      "    if len(arr) <= 1:\n",
      "        return arr\n",
      "\n",
      "    longest = arr[0]\n",
      "    sortedList = []\n",
      "    for i in range(1, len(arr)):\n",
      "        for j in range(i + 1, len(arr)):\n",
      "            if arr[j] > arr[i]:\n",
      "                temp = arr[j]\n",
      "                arr[j] = arr[i]\n",
      "                arr[i] = temp\n",
      "                sortedList.append(sorted(range(i,j+1), reverse=True))\n",
      "\n",
      "    return sorted(sortedList)\n",
      "\n",
      "\n",
      "demo of bubble sort in pythonshow me the same functionality in Rust?\n",
      "bubble sort algorithm is very common and well known data structure sort. Bubble sort is usually implemented with an auxiliary stack data structure. The algorithm goes as follows:\n",
      "\n",
      "Step 1 - Create an empty stack.\n",
      "Step 2 - While list is not sorted, do the following:\n",
      "    - Push the first element of the list to the stack.\n",
      "    - While the top of the stack is not full, do the following:\n",
      "        - Pop the top element of the stack and compare it with the element at the top of the stack.\n",
      "            If the two elements are in order, put them at the top of the stack.\n",
      "            If the two elements are not in order, swap them.\n",
      "        - If the stack is now full, repeat step 2.\n",
      "        - If the list is already sorted, repeat step 1.\n",
      "Step 3 - Pop the top element of the stack and replace it with this element.\n"
     ]
    }
   ],
   "source": [
    "new_query = res[0][\"generated_text\"] + \"show me the same functionality in Rust?\"\n",
    "\n",
    "res1 = generate_text(new_query)\n",
    "print(res1[0][\"generated_text\"])"
   ]
  },
  {
   "cell_type": "code",
   "execution_count": 5,
   "metadata": {},
   "outputs": [],
   "source": [
    "from langchain import PromptTemplate, LLMChain\n",
    "from langchain.llms import HuggingFacePipeline\n",
    "\n",
    "# template for an instrution with no input\n",
    "prompt = PromptTemplate(\n",
    "    input_variables=[\"instruction\"],\n",
    "    template=\"{instruction}\")\n",
    "\n",
    "# template for an instruction with input\n",
    "prompt_with_context = PromptTemplate(\n",
    "    input_variables=[\"instruction\", \"context\"],\n",
    "    template=\"{instruction}\\n\\nInput:\\n{context}\")\n",
    "\n",
    "hf_pipeline = HuggingFacePipeline(pipeline=generate_text)\n",
    "\n",
    "llm_chain = LLMChain(llm=hf_pipeline, prompt=prompt)\n",
    "llm_context_chain = LLMChain(llm=hf_pipeline, prompt=prompt_with_context)\n"
   ]
  },
  {
   "cell_type": "code",
   "execution_count": 6,
   "metadata": {},
   "outputs": [
    {
     "name": "stdout",
     "output_type": "stream",
     "text": [
      "Nuclear fission releases a single atom of light water, but by bombarding that atom with a high energy particle such as a neutron or a proton, it can be made to split into two hydrogen atoms which subsequently join together to release a lot of light water, the resulting reaction is called hydrogen explosion and is what happens in a nuclear reactor. Nuclear fission is thus used in the production of energy.\n",
      "\n",
      "On the other hand, in a nuclear fusion reaction, two or more nuclei (or atoms) unite together to form one or more larger nuclei. This produces more energy than it took to produce. For example, two deuterium nuclei may fuse to form tritium, a helium-3 atom.\n"
     ]
    }
   ],
   "source": [
    "print(llm_chain.predict(instruction=\"Explain to me the difference between nuclear fission and fusion.\").lstrip())\n"
   ]
  },
  {
   "cell_type": "code",
   "execution_count": 4,
   "metadata": {},
   "outputs": [
    {
     "name": "stdout",
     "output_type": "stream",
     "text": [
      "George Washington was the first president of the United States from 1789 to 1797.\n"
     ]
    }
   ],
   "source": [
    "context = \"\"\"George Washington (February 22, 1732[b] – December 14, 1799) was an American military officer, statesman,\n",
    "and Founding Father who served as the first president of the United States from 1789 to 1797.\"\"\"\n",
    "\n",
    "print(llm_context_chain.predict(instruction=\"When was George Washington president?\", context=context).lstrip())\n"
   ]
  }
 ],
 "metadata": {
  "kernelspec": {
   "display_name": "chatglm",
   "language": "python",
   "name": "python3"
  },
  "language_info": {
   "codemirror_mode": {
    "name": "ipython",
    "version": 3
   },
   "file_extension": ".py",
   "mimetype": "text/x-python",
   "name": "python",
   "nbconvert_exporter": "python",
   "pygments_lexer": "ipython3",
   "version": "3.8.16"
  },
  "orig_nbformat": 4
 },
 "nbformat": 4,
 "nbformat_minor": 2
}
