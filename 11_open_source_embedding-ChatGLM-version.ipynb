{
 "cells": [
  {
   "cell_type": "code",
   "execution_count": 7,
   "metadata": {},
   "outputs": [],
   "source": [
    "import openai, os\n",
    "import faiss\n",
    "# from llama_index import SimpleDirectoryReader, LangchainEmbedding, GPTFaissIndex, ServiceContext\n",
    "from llama_index import SimpleDirectoryReader, LangchainEmbedding, ServiceContext\n",
    "from langchain.embeddings.huggingface import HuggingFaceEmbeddings\n",
    "from langchain.text_splitter import SpacyTextSplitter, CharacterTextSplitter\n",
    "from langchain.chat_models import ChatOpenAI\n",
    "\n",
    "openai.api_key = \"\""
   ]
  },
  {
   "cell_type": "code",
   "execution_count": 8,
   "metadata": {},
   "outputs": [
    {
     "name": "stderr",
     "output_type": "stream",
     "text": [
      "Created a chunk of size 130, which is longer than the specified 100\n"
     ]
    }
   ],
   "source": [
    "\n",
    "from llama_index.node_parser import SimpleNodeParser\n",
    "\n",
    "text_splitter = CharacterTextSplitter(separator=\"\\n\\n\", chunk_size=100, chunk_overlap=20)\n",
    "parser = SimpleNodeParser(text_splitter=text_splitter)\n",
    "documents = SimpleDirectoryReader('./data/faq/').load_data()\n",
    "nodes = parser.get_nodes_from_documents(documents)\n",
    "\n",
    "embed_model = LangchainEmbedding(HuggingFaceEmbeddings(\n",
    "    model_name=\"sentence-transformers/paraphrase-multilingual-mpnet-base-v2\"\n",
    "))\n",
    "service_context = ServiceContext.from_defaults(embed_model=embed_model)\n",
    "\n"
   ]
  },
  {
   "cell_type": "code",
   "execution_count": 9,
   "metadata": {},
   "outputs": [],
   "source": [
    "#dimension = 768\n",
    "#faiss_index = faiss.IndexFlatIP(dimension)\n",
    "#index = GPTFaissIndex(nodes=nodes,faiss_index=faiss_index, service_context=service_context)\n",
    "\n",
    "\n",
    "\n",
    "from llama_index import GPTVectorStoreIndex\n",
    "\n",
    "new_index = GPTVectorStoreIndex(nodes)\n",
    "\n",
    "# query with embed_model specified\n",
    "query_engine = new_index.as_query_engine(\n",
    "    retriever_mode=\"embedding\", \n",
    "    verbose=True, \n",
    "    service_context=service_context\n",
    ")\n",
    "\n"
   ]
  },
  {
   "cell_type": "code",
   "execution_count": 10,
   "metadata": {},
   "outputs": [
    {
     "name": "stdout",
     "output_type": "stream",
     "text": [
      "\n",
      "是的，我们支持全国大部分省份的配送，其中包括海南省。\n"
     ]
    }
   ],
   "source": [
    "#from llama_index import QueryMode\n",
    "\n",
    "#openai.api_key = os.environ.get(\"OPENAI_API_KEY\")\n",
    "\n",
    "#response = index.query(\n",
    "#    \"请问你们海南能发货吗？\", \n",
    "#    mode=QueryMode.EMBEDDING,\n",
    "#    verbose=True, \n",
    "#)\n",
    "\n",
    "response = query_engine.query(\n",
    "    \"请问你们海南能发货吗？\", \n",
    "#    mode=QueryMode.EMBEDDING,\n",
    "#    verbose=True, \n",
    ")\n",
    "\n",
    "print(response)"
   ]
  },
  {
   "cell_type": "code",
   "execution_count": 5,
   "metadata": {},
   "outputs": [
    {
     "name": "stdout",
     "output_type": "stream",
     "text": [
      "\n",
      "我们与顺丰速运、圆通速递、申通快递、韵达快递、中通快递、百世快递等多家知名快递公司合作，用他们的服务送货。\n"
     ]
    }
   ],
   "source": [
    "response = query_engine.query(\n",
    "    \"你们用哪些快递公司送货？\", \n",
    ")\n",
    "\n",
    "print(response)"
   ]
  },
  {
   "cell_type": "code",
   "execution_count": 6,
   "metadata": {},
   "outputs": [
    {
     "name": "stdout",
     "output_type": "stream",
     "text": [
      "\n",
      "自收到商品之日起7天内，如产品未使用、包装完好，您可以申请退货。某些特殊商品可能不支持退货，请在购买前查看商品详情页面的退货政策。\n"
     ]
    }
   ],
   "source": [
    "#response = index.query(\n",
    "#    \"你们的退货政策是怎么样的？\", \n",
    "#    mode=QueryMode.EMBEDDING,\n",
    "#    verbose=True, \n",
    "#)\n",
    "\n",
    "response = query_engine.query(\n",
    "    \"你们的退货政策是怎么样的？\", \n",
    ")\n",
    "\n",
    "print(response)"
   ]
  },
  {
   "cell_type": "code",
   "execution_count": null,
   "metadata": {},
   "outputs": [],
   "source": []
  }
 ],
 "metadata": {
  "kernelspec": {
   "display_name": "Python 3 (ipykernel)",
   "language": "python",
   "name": "python3"
  },
  "language_info": {
   "codemirror_mode": {
    "name": "ipython",
    "version": 3
   },
   "file_extension": ".py",
   "mimetype": "text/x-python",
   "name": "python",
   "nbconvert_exporter": "python",
   "pygments_lexer": "ipython3",
   "version": "3.8.16"
  }
 },
 "nbformat": 4,
 "nbformat_minor": 2
}
