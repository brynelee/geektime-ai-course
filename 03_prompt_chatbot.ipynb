{
 "cells": [
  {
   "cell_type": "markdown",
   "metadata": {},
   "source": [
    "## 让AI帮我做客服"
   ]
  },
  {
   "cell_type": "code",
   "execution_count": 3,
   "metadata": {},
   "outputs": [],
   "source": [
    "import openai\n",
    "import os\n",
    "\n",
    "openai.api_key = os.environ.get(\"OPENAI_API_KEY\")\n",
    "# openai.api_key = \"\"\n",
    "COMPLETION_MODEL = \"text-davinci-003\"\n",
    "\n",
    "\n",
    "prompt = 'Please reply the customer that the order is on the road, will be delivered in 3 days, the order number is 2023EFAC, wo appoligize that the time to be cost will be a little longer due to the weather, and thanks for they choose us.'\n",
    "\n",
    "def get_response(prompt, temperature = 1.0, stop=None):\n",
    "    completions = openai.Completion.create (\n",
    "        engine=COMPLETION_MODEL,\n",
    "        prompt=prompt,\n",
    "        max_tokens=1024,\n",
    "        n=1,\n",
    "        stop=stop,\n",
    "        temperature=temperature,        \n",
    "    )\n",
    "    message = completions.choices[0].text\n",
    "    return message\n",
    "    \n"
   ]
  },
  {
   "cell_type": "code",
   "execution_count": 4,
   "metadata": {},
   "outputs": [
    {
     "name": "stdout",
     "output_type": "stream",
     "text": [
      "\n",
      "\n",
      "Dear customer,\n",
      "\n",
      "Thank you for your order (2023EFAC)! Your order is currently on its way to you. We apologize that due to the weather, the delivery time may be a little longer than expected, but we anticipate that it will arrive within the next three days. Thank you for choosing us.\n",
      "\n",
      "Sincerely,\n",
      "[Your company name]\n"
     ]
    }
   ],
   "source": [
    "print(get_response(prompt))"
   ]
  },
  {
   "cell_type": "code",
   "execution_count": 3,
   "metadata": {},
   "outputs": [
    {
     "name": "stdout",
     "output_type": "stream",
     "text": [
      "\n",
      "\n",
      "亲，您已下单成功，订单号2021AEDG，我们已将货物发出，预计将在3天内送达。目前，由于天气的原因，物流时间比原来有些延迟，这里我们真的很抱歉。最后，感谢您对我们的支持与关注！祝您生活愉快！\n"
     ]
    }
   ],
   "source": [
    "print(get_response(prompt))"
   ]
  },
  {
   "cell_type": "markdown",
   "metadata": {},
   "source": [
    "## 变更Temperature"
   ]
  },
  {
   "cell_type": "code",
   "execution_count": 5,
   "metadata": {},
   "outputs": [
    {
     "name": "stdout",
     "output_type": "stream",
     "text": [
      "\n",
      "\n",
      "Dear Customer,\n",
      "\n",
      "Thank you for your order (2023EFAC). We are pleased to inform you that your order is on the road and will be delivered in 3 days. We apologize for the slight delay due to the weather. Thank you for choosing us.\n",
      "\n",
      "If you have any further questions, please do not hesitate to contact us.\n",
      "\n",
      "Sincerely,\n",
      "[Your Name]\n"
     ]
    }
   ],
   "source": [
    "print(get_response(prompt, 0.0))"
   ]
  },
  {
   "cell_type": "code",
   "execution_count": 5,
   "metadata": {},
   "outputs": [
    {
     "name": "stdout",
     "output_type": "stream",
     "text": [
      "\n",
      "\n",
      "亲，您的订单2021AEDG已经发货，预计在3天之内会送达。很抱歉因为天气的原因物流时间比原来长，感谢您选购我们的商品，祝您购物愉快！\n"
     ]
    }
   ],
   "source": [
    "print(get_response(prompt, 0.0))"
   ]
  },
  {
   "cell_type": "markdown",
   "metadata": {},
   "source": [
    "## 测试stop参数"
   ]
  },
  {
   "cell_type": "code",
   "execution_count": 6,
   "metadata": {},
   "outputs": [
    {
     "name": "stdout",
     "output_type": "stream",
     "text": [
      "\n",
      "\n",
      "Dear Customer,\n",
      "\n",
      "Thank you for your order. We are pleased to inform you that your order (Order Number: 2023EFAC) is on the road and will be delivered in 3 days. We apologize for the slight delay due to the weather. Thank you for choosing us.\n",
      "\n",
      "If you have any further questions, please do not hesitate to contact us.\n",
      "\n",
      "Sincerely,\n",
      "[Your Name]\n"
     ]
    }
   ],
   "source": [
    "print(get_response(prompt, 0.0, \"，\"))"
   ]
  },
  {
   "cell_type": "markdown",
   "metadata": {},
   "source": [
    "## 让AI帮我做聊天机器人"
   ]
  },
  {
   "cell_type": "code",
   "execution_count": 7,
   "metadata": {},
   "outputs": [
    {
     "name": "stdout",
     "output_type": "stream",
     "text": [
      "To make a delicious salad, start by washing and drying the salad greens. Then, add toppings of your choice, such as vegetables, cheese, nuts, or fruit. Drizzle with a salad dressing, such as vinaigrette or ranch, and lightly toss everything together. Serve the salad immediately for best results.\n"
     ]
    }
   ],
   "source": [
    "question =  \"\"\"\n",
    "Q : how to cook salad?\n",
    "A : \n",
    "\"\"\"\n",
    "print(get_response(question))"
   ]
  },
  {
   "cell_type": "markdown",
   "metadata": {},
   "source": [
    "## 多轮对话"
   ]
  },
  {
   "cell_type": "code",
   "execution_count": 9,
   "metadata": {},
   "outputs": [
    {
     "name": "stdout",
     "output_type": "stream",
     "text": [
      "To prepare beef, begin by selecting your cut of beef and allowing it to come to room temperature before cooking. Prepare your seasonings, such as salt and pepper, and rub them into the beef. Heat a large pan on the stove over medium-high heat, add a little oil, and place the beef in the pan. Sear the beef, flipping it over and cooking it evenly on both sides. When the desired internal temperature is reached, transfer it to a plate and let it rest for 5-10 minutes before serving.\n"
     ]
    }
   ],
   "source": [
    "question =  \"\"\"\n",
    "Q : how to cook salad?\n",
    "A : \n",
    "To make a delicious salad, start by washing and drying the salad greens. Then, add toppings of your choice, such as vegetables, cheese, nuts, or fruit. Drizzle with a salad dressing, such as vinaigrette or ranch, and lightly toss everything together. Serve the salad immediately for best results.\n",
    "\n",
    "Q : What if beaf?\n",
    "A : \n",
    "\"\"\"\n",
    "print(get_response(question))"
   ]
  },
  {
   "cell_type": "code",
   "execution_count": 8,
   "metadata": {},
   "outputs": [
    {
     "name": "stdout",
     "output_type": "stream",
     "text": [
      "1.准备好食材：500克牛肉，2勺蚝油，1勺老抽，1勺葱花，配料：2勺姜末，2勺料酒，1勺糖，半勺盐，1勺醋，2勺香油，半勺糯米粉，半勺绍酒。\n",
      "2.将牛肉洗净，切成片，放入料酒、盐、姜末拌匀腌制20分钟。\n",
      "3.把蚝油、老抽、葱花、糖、醋、香油、糯米粉、绍酒放入碗中，搅拌均匀。\n",
      "4.将牛肉片放入船形锅内，慢火翻炒至半熟，倒入调味料，用中火收汁，最后加入香菜，大火翻炒几下即可。\n"
     ]
    }
   ],
   "source": [
    "question =  \"\"\"\n",
    "Q : 鱼香肉丝怎么做？\n",
    "A : \n",
    "1.准备好食材：500克猪里脊肉，2个青椒，2个红椒，1个洋葱，2勺蒜蓉，3勺白糖，适量料酒，半勺盐，2勺生抽，2勺酱油，2勺醋，少许花椒粉，半勺老抽，适量水淀粉。\n",
    "2.将猪里脊肉洗净，沥干水分，放入料酒、盐，抓捏抓匀，腌制20分钟。\n",
    "3.将青红椒洗净，切成丝，洋葱洗净，切成葱花，蒜末拌入小苏打水中腌制。\n",
    "4.将猪里脊肉切成丝，放入锅中，加入洋葱，炒制至断生，加入青红椒，炒匀，加入腌制好的蒜末，炒制至断生。\n",
    "5.将白糖、生抽、酱油、醋、花椒粉、老抽、水淀粉倒入锅中，翻炒匀，用小火收汁，调味即可。\n",
    "\n",
    "Q : 那蚝油牛肉呢？\n",
    "A : \n",
    "\"\"\"\n",
    "print(get_response(question))"
   ]
  },
  {
   "cell_type": "markdown",
   "metadata": {},
   "source": [
    "## food_chatbot.py"
   ]
  },
  {
   "cell_type": "code",
   "execution_count": 9,
   "metadata": {},
   "outputs": [
    {
     "name": "stdout",
     "output_type": "stream",
     "text": [
      "你好，我是一个聊天机器人，请你提出你的问题吧?\n"
     ]
    },
    {
     "name": "stdin",
     "output_type": "stream",
     "text": [
      ">  你好\n"
     ]
    },
    {
     "name": "stdout",
     "output_type": "stream",
     "text": [
      "你好\n"
     ]
    },
    {
     "name": "stdin",
     "output_type": "stream",
     "text": [
      ">  请问鱼香肉丝怎么做？\n"
     ]
    },
    {
     "name": "stdout",
     "output_type": "stream",
     "text": [
      "鱼香肉丝的做法：\n",
      "1.准备好所需的食材：猪肉、葱、姜、蒜、腐竹、酱油、白糖、料酒、醋、香油等。\n",
      "2.将猪肉切成片，加入料酒、盐、鸡精腌制半小时。\n",
      "3.准备调料，将葱、姜、蒜、腐竹切成末，将酱油、白糖、醋、香油混合均匀备用。\n",
      "4.锅中加入油，放入葱、姜、蒜、腐竹炒香。\n",
      "5.放入腌制好的猪肉，翻炒均匀，加入调料拌匀。\n",
      "6.加入适量清水，盖上锅盖焖煮5分钟，即可。\n"
     ]
    },
    {
     "name": "stdin",
     "output_type": "stream",
     "text": [
      ">  那蚝油牛肉呢？\n"
     ]
    },
    {
     "name": "stdout",
     "output_type": "stream",
     "text": [
      "蚝油牛肉的做法：\n",
      "1.准备好所需的食材：牛肉、葱、姜、蒜、蚝油、料酒、醋、香油等。\n",
      "2.将牛肉切成片，加入料酒、盐、鸡精腌制半小时。\n",
      "3.准备调料，将葱、姜、蒜切成末，将蚝油、醋、香油混合均匀备用。\n",
      "4.锅中加入油，放入葱、姜、蒜炒香。\n",
      "5.放入腌制好的牛肉，翻炒均匀，加入调料拌匀。\n",
      "6.加入适量清水，盖上锅盖焖煮5分钟，即可。\n"
     ]
    },
    {
     "name": "stdin",
     "output_type": "stream",
     "text": [
      ">  bye\n"
     ]
    },
    {
     "name": "stdout",
     "output_type": "stream",
     "text": [
      "Goodbye!\n"
     ]
    }
   ],
   "source": [
    "import openai\n",
    "import os\n",
    "\n",
    "openai.api_key = os.environ[\"OPENAI_API_KEY\"]\n",
    "\n",
    "def ask_gpt3(prompt):\n",
    "    response = openai.Completion.create(\n",
    "        engine=\"text-davinci-003\",\n",
    "        prompt=prompt,\n",
    "        max_tokens=512,\n",
    "        n=1,\n",
    "        stop=None,\n",
    "        temperature=0.5,\n",
    "    )\n",
    "\n",
    "    message = response.choices[0].text.strip()\n",
    "    return message\n",
    "\n",
    "print(\"你好，我是一个聊天机器人，请你提出你的问题吧?\")\n",
    "\n",
    "questions = []\n",
    "answers = []\n",
    "\n",
    "\n",
    "def generate_prompt(prompt, questions, answers):\n",
    "    num = len(answers)\n",
    "    for i in range(num):\n",
    "        prompt += \"\\n Q : \" + questions[i]\n",
    "        prompt += \"\\n A : \" + answers[i]\n",
    "    prompt += \"\\n Q : \" + questions[num] + \"\\n A : \"        \n",
    "    return prompt\n",
    "\n",
    "while True:\n",
    "    user_input = input(\"> \")\n",
    "    questions.append(user_input)\n",
    "    if user_input.lower() in [\"bye\", \"goodbye\", \"exit\"]:\n",
    "        print(\"Goodbye!\")\n",
    "        break\n",
    "    \n",
    "    prompt = generate_prompt(\"\", questions, answers)\n",
    "\n",
    "    answer = ask_gpt3(prompt)\n",
    "    print(answer)\n",
    "    answers.append(answer)\n"
   ]
  },
  {
   "cell_type": "markdown",
   "metadata": {},
   "source": [
    "## 让AI帮我解决情感分析问题\n"
   ]
  },
  {
   "cell_type": "code",
   "execution_count": 10,
   "metadata": {},
   "outputs": [
    {
     "name": "stdout",
     "output_type": "stream",
     "text": [
      "正面\n"
     ]
    }
   ],
   "source": [
    "prompts = \"\"\"判断一下用户的评论情感上是正面的还是负面的\n",
    "评论：买的银色版真的很好看，一天就到了，晚上就开始拿起来完系统很丝滑流畅，做工扎实，手感细腻，很精致哦苹果一如既往的好品质\n",
    "情感：正面\n",
    "\n",
    "评论：随意降价，不予价保，服务态度差\n",
    "情感：负面\n",
    "\"\"\"\n",
    "\n",
    "good_case = prompts + \"\"\"\n",
    "评论：外形外观：苹果审美一直很好，金色非常漂亮\n",
    "拍照效果：14pro升级的4800万像素真的是没的说，太好了，\n",
    "运行速度：苹果的反应速度好，用上三五年也不会卡顿的，之前的7P用到现在也不卡\n",
    "其他特色：14pro的磨砂金真的太好看了，不太高调，也不至于没有特点，非常耐看，很好的\n",
    "情感：\n",
    "\"\"\"\n",
    "\n",
    "print(get_response(good_case))"
   ]
  },
  {
   "cell_type": "code",
   "execution_count": 11,
   "metadata": {
    "tags": []
   },
   "outputs": [
    {
     "name": "stdout",
     "output_type": "stream",
     "text": [
      "负面\n"
     ]
    }
   ],
   "source": [
    "bad_case = prompts + \"\"\"\n",
    "评论：信号不好电池也不耐电不推荐购买\n",
    "情感\n",
    "\"\"\"\n",
    "\n",
    "print(get_response(bad_case))"
   ]
  }
 ],
 "metadata": {
  "kernelspec": {
   "display_name": "Python 3 (ipykernel)",
   "language": "python",
   "name": "python3"
  },
  "language_info": {
   "codemirror_mode": {
    "name": "ipython",
    "version": 3
   },
   "file_extension": ".py",
   "mimetype": "text/x-python",
   "name": "python",
   "nbconvert_exporter": "python",
   "pygments_lexer": "ipython3",
   "version": "3.8.16"
  },
  "vscode": {
   "interpreter": {
    "hash": "8114e84f04cf14e493992e1b725447accf84073d5ec18e7063d492738bf032cb"
   }
  }
 },
 "nbformat": 4,
 "nbformat_minor": 4
}
