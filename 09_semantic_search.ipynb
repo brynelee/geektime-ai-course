{
 "cells": [
  {
   "cell_type": "markdown",
   "metadata": {},
   "source": [
    "## 让AI生成点实验数据"
   ]
  },
  {
   "cell_type": "code",
   "execution_count": 1,
   "metadata": {},
   "outputs": [
    {
     "name": "stdout",
     "output_type": "stream",
     "text": [
      "\n",
      "\n",
      "1.【新品上市】苹果AirPods Pro无线蓝牙耳机\n",
      "2.【限时特惠】华为Mate30 Pro 5G全网通版\n",
      "3.【热销爆款】荣耀V30 Pro 5G双模双待手机\n",
      "4.【热卖抢购】三星Galaxy S20 Ultra 5G手机\n",
      "5.【爆款抢购】小米10 Pro 5G双模双待手机\n",
      "6.【新品上市】苹果iPad Pro 11英寸平板电脑\n",
      "7.【限时特惠】华为MateBook X Pro笔记本电脑\n",
      "8.【热销爆款】荣耀MagicBook Pro笔记本电脑\n",
      "9.【热卖抢购】华硕ZenBook Pro Duo笔记本电脑\n",
      "10.【爆款抢购】联想Yoga Pro 7笔记本电脑\n",
      "11.【新品上市】苹果Apple Watch Series 5智能手表\n",
      "12.【限时特惠】华为GT2 Pro智能手表\n",
      "13.【热销爆款】三星Galaxy Watch Active2智能手表\n",
      "14.【热卖抢购】小米Amazfit GTR智能手表\n",
      "15.【爆款抢购】荣耀Watch Magic智能手表\n",
      "16.【新品上市】苹果AirPods 2无线蓝牙耳机\n",
      "17.【限时特惠】华为FreeBuds 3无线蓝牙耳机\n",
      "18.【热销爆款】三星Galaxy Buds+无线蓝牙耳机\n",
      "19.【热卖抢购】小米Redmi AirDots无线蓝牙耳机\n",
      "20.【爆款抢购】荣耀FlyPods 3无线蓝牙耳机\n",
      "21.【新品上市】苹果iPhone 11 Pro Max全网通手机\n",
      "22.【限时特惠】华为P30 Pro 5G双模双待手机\n",
      "23.【热销爆款】三星Galaxy Note 10 Plus 5G手机\n",
      "24.【热卖抢购】小米CC9 Pro 5G双模双待手机\n",
      "25.【爆款抢购】荣耀V20 5G双模双待手机\n",
      "26.【新品上市】苹果iPhone 11 Pro全网通手机\n",
      "27.【限时特惠】华为Mate 20 Pro 5G双模双待手机\n",
      "28.【热销爆款】三星Galaxy S10 Plus 5G手机\n",
      "29.【热卖抢购】小米CC9 5G双模双待手机\n",
      "30.【爆款抢购】荣耀20 Pro 5G双模双待手机\n",
      "31.【新品上市】苹果iPad Pro 12.9英寸平板电脑\n",
      "32.【限时特惠】华为MateBook 13笔记本电脑\n",
      "33.【热销爆款】荣耀MagicBook 14笔记本电脑\n",
      "34.【热卖抢购】华硕ZenBook 13笔记本电脑\n",
      "35.【爆款抢购】联想Yoga C940笔记本电脑\n",
      "36.【新品上市】苹果Apple Watch Series 4智能手表\n",
      "37.【限时特惠】华为GT2e智能手表\n",
      "38.【热销爆款】三星Galaxy Watch Active智能手表\n",
      "39.【热卖抢购】小米Amazfit Stratos智能手表\n",
      "40.【爆款抢购】荣耀Watch GT智能手表\n",
      "41.【新品上市】苹果AirPods无线蓝牙耳机\n",
      "42.【限时特惠】华为FreeBuds 2无线蓝牙耳机\n",
      "43.【热销爆款】三星Galaxy Buds无线蓝牙耳机\n",
      "44.【热卖抢购】小米Redmi AirDots Pro无线蓝牙耳机\n",
      "45.【爆款抢购】荣耀FlyPods 2无线蓝牙耳机\n",
      "46.【新品上市】苹果iPhone 11全网通手机\n",
      "47.【限时特惠】华为P30 5G双模双待手机\n",
      "48.【热销爆款】三星Galaxy Note 10 5G手机\n",
      "49.【热卖抢购】小米CC9e 5G双模双待手机\n",
      "50.【爆款抢购】荣耀V20 Pro 5G双模双待手机\n"
     ]
    }
   ],
   "source": [
    "import openai, os\n",
    "\n",
    "openai.api_key = os.environ.get(\"OPENAI_API_KEY\")\n",
    "\n",
    "COMPLETION_MODEL = \"text-davinci-003\"\n",
    "\n",
    "def generate_data_by_prompt(prompt):\n",
    "    response = openai.Completion.create(\n",
    "        engine=COMPLETION_MODEL,\n",
    "        prompt=prompt,\n",
    "        temperature=0.5,\n",
    "        max_tokens=2048,\n",
    "        top_p=1,\n",
    "    )\n",
    "    return response.choices[0].text\n",
    "\n",
    "prompt = \"\"\"请你生成50条淘宝网里的商品的标题，每条在30个字左右，品类是3C数码产品，标题里往往也会有一些促销类的信息，每行一条。\"\"\"\n",
    "data = generate_data_by_prompt(prompt)\n",
    "print(data)"
   ]
  },
  {
   "cell_type": "markdown",
   "metadata": {},
   "source": [
    "为了让数据和真实情况更加接近一点，我们可以好好设计一下我们的提示语。比如，我这里就指明了是淘宝的商品，品类是3C，并且标题里要包含一些促销信息。\n",
    "\n",
    "我们把拿到的返回结果，按行分割，加载到一个DataFrame里面，看看结果会是怎么样的："
   ]
  },
  {
   "cell_type": "code",
   "execution_count": 2,
   "metadata": {},
   "outputs": [
    {
     "data": {
      "text/html": [
       "<div>\n",
       "<style scoped>\n",
       "    .dataframe tbody tr th:only-of-type {\n",
       "        vertical-align: middle;\n",
       "    }\n",
       "\n",
       "    .dataframe tbody tr th {\n",
       "        vertical-align: top;\n",
       "    }\n",
       "\n",
       "    .dataframe thead th {\n",
       "        text-align: right;\n",
       "    }\n",
       "</style>\n",
       "<table border=\"1\" class=\"dataframe\">\n",
       "  <thead>\n",
       "    <tr style=\"text-align: right;\">\n",
       "      <th></th>\n",
       "      <th>product_name</th>\n",
       "    </tr>\n",
       "  </thead>\n",
       "  <tbody>\n",
       "    <tr>\n",
       "      <th>0</th>\n",
       "      <td>1.【新品上市】苹果AirPods Pro无线蓝牙耳机</td>\n",
       "    </tr>\n",
       "    <tr>\n",
       "      <th>1</th>\n",
       "      <td>2.【限时特惠】华为Mate30 Pro 5G全网通版</td>\n",
       "    </tr>\n",
       "    <tr>\n",
       "      <th>2</th>\n",
       "      <td>3.【热销爆款】荣耀V30 Pro 5G双模双待手机</td>\n",
       "    </tr>\n",
       "    <tr>\n",
       "      <th>3</th>\n",
       "      <td>4.【热卖抢购】三星Galaxy S20 Ultra 5G手机</td>\n",
       "    </tr>\n",
       "    <tr>\n",
       "      <th>4</th>\n",
       "      <td>5.【爆款抢购】小米10 Pro 5G双模双待手机</td>\n",
       "    </tr>\n",
       "  </tbody>\n",
       "</table>\n",
       "</div>"
      ],
      "text/plain": [
       "                      product_name\n",
       "0      1.【新品上市】苹果AirPods Pro无线蓝牙耳机\n",
       "1      2.【限时特惠】华为Mate30 Pro 5G全网通版\n",
       "2       3.【热销爆款】荣耀V30 Pro 5G双模双待手机\n",
       "3  4.【热卖抢购】三星Galaxy S20 Ultra 5G手机\n",
       "4        5.【爆款抢购】小米10 Pro 5G双模双待手机"
      ]
     },
     "execution_count": 2,
     "metadata": {},
     "output_type": "execute_result"
    }
   ],
   "source": [
    "import pandas as pd\n",
    "\n",
    "product_names = data.strip().split('\\n')\n",
    "df = pd.DataFrame({'product_name': product_names})\n",
    "df.head()"
   ]
  },
  {
   "cell_type": "code",
   "execution_count": 3,
   "metadata": {},
   "outputs": [
    {
     "data": {
      "text/html": [
       "<div>\n",
       "<style scoped>\n",
       "    .dataframe tbody tr th:only-of-type {\n",
       "        vertical-align: middle;\n",
       "    }\n",
       "\n",
       "    .dataframe tbody tr th {\n",
       "        vertical-align: top;\n",
       "    }\n",
       "\n",
       "    .dataframe thead th {\n",
       "        text-align: right;\n",
       "    }\n",
       "</style>\n",
       "<table border=\"1\" class=\"dataframe\">\n",
       "  <thead>\n",
       "    <tr style=\"text-align: right;\">\n",
       "      <th></th>\n",
       "      <th>product_name</th>\n",
       "    </tr>\n",
       "  </thead>\n",
       "  <tbody>\n",
       "    <tr>\n",
       "      <th>0</th>\n",
       "      <td>【新品上市】苹果AirPods Pro无线蓝牙耳机</td>\n",
       "    </tr>\n",
       "    <tr>\n",
       "      <th>1</th>\n",
       "      <td>【限时特惠】华为Mate30 Pro 5G全网通版</td>\n",
       "    </tr>\n",
       "    <tr>\n",
       "      <th>2</th>\n",
       "      <td>【热销爆款】荣耀V30 Pro 5G双模双待手机</td>\n",
       "    </tr>\n",
       "    <tr>\n",
       "      <th>3</th>\n",
       "      <td>【热卖抢购】三星Galaxy S20 Ultra 5G手机</td>\n",
       "    </tr>\n",
       "    <tr>\n",
       "      <th>4</th>\n",
       "      <td>【爆款抢购】小米10 Pro 5G双模双待手机</td>\n",
       "    </tr>\n",
       "  </tbody>\n",
       "</table>\n",
       "</div>"
      ],
      "text/plain": [
       "                    product_name\n",
       "0      【新品上市】苹果AirPods Pro无线蓝牙耳机\n",
       "1      【限时特惠】华为Mate30 Pro 5G全网通版\n",
       "2       【热销爆款】荣耀V30 Pro 5G双模双待手机\n",
       "3  【热卖抢购】三星Galaxy S20 Ultra 5G手机\n",
       "4        【爆款抢购】小米10 Pro 5G双模双待手机"
      ]
     },
     "execution_count": 3,
     "metadata": {},
     "output_type": "execute_result"
    }
   ],
   "source": [
    "df.product_name = df.product_name.apply(lambda x: x.split('.')[1].strip())\n",
    "df.head()"
   ]
  },
  {
   "cell_type": "code",
   "execution_count": 4,
   "metadata": {},
   "outputs": [],
   "source": [
    "clothes_prompt = \"\"\"请你生成50条淘宝网里的商品的标题，每条在30个字左右，品类是女性的服饰箱包等等，标题里往往也会有一些促销类的信息，每行一条。\"\"\"\n",
    "clothes_data = generate_data_by_prompt(clothes_prompt)\n",
    "clothes_product_names = clothes_data.strip().split('\\n')\n"
   ]
  },
  {
   "cell_type": "code",
   "execution_count": 5,
   "metadata": {},
   "outputs": [
    {
     "data": {
      "text/html": [
       "<div>\n",
       "<style scoped>\n",
       "    .dataframe tbody tr th:only-of-type {\n",
       "        vertical-align: middle;\n",
       "    }\n",
       "\n",
       "    .dataframe tbody tr th {\n",
       "        vertical-align: top;\n",
       "    }\n",
       "\n",
       "    .dataframe thead th {\n",
       "        text-align: right;\n",
       "    }\n",
       "</style>\n",
       "<table border=\"1\" class=\"dataframe\">\n",
       "  <thead>\n",
       "    <tr style=\"text-align: right;\">\n",
       "      <th></th>\n",
       "      <th>product_name</th>\n",
       "    </tr>\n",
       "  </thead>\n",
       "  <tbody>\n",
       "    <tr>\n",
       "      <th>0</th>\n",
       "      <td>【新款】时尚拼接真皮女包</td>\n",
       "    </tr>\n",
       "    <tr>\n",
       "      <th>1</th>\n",
       "      <td>潮流撞色腰带女士手提包</td>\n",
       "    </tr>\n",
       "    <tr>\n",
       "      <th>2</th>\n",
       "      <td>【特价】经典款小方包女士手抓包</td>\n",
       "    </tr>\n",
       "    <tr>\n",
       "      <th>3</th>\n",
       "      <td>【热销】简约百搭链条挎包</td>\n",
       "    </tr>\n",
       "    <tr>\n",
       "      <th>4</th>\n",
       "      <td>【精选】百搭双肩包百搭挎包</td>\n",
       "    </tr>\n",
       "  </tbody>\n",
       "</table>\n",
       "</div>"
      ],
      "text/plain": [
       "      product_name\n",
       "0     【新款】时尚拼接真皮女包\n",
       "1      潮流撞色腰带女士手提包\n",
       "2  【特价】经典款小方包女士手抓包\n",
       "3     【热销】简约百搭链条挎包\n",
       "4    【精选】百搭双肩包百搭挎包"
      ]
     },
     "execution_count": 5,
     "metadata": {},
     "output_type": "execute_result"
    }
   ],
   "source": [
    "clothes_df = pd.DataFrame({'product_name': clothes_product_names})\n",
    "clothes_df.product_name = clothes_df.product_name.apply(lambda x: x.split('.')[1].strip())\n",
    "clothes_df.head()"
   ]
  },
  {
   "cell_type": "code",
   "execution_count": 6,
   "metadata": {},
   "outputs": [
    {
     "name": "stdout",
     "output_type": "stream",
     "text": [
      "0         【新品上市】苹果AirPods Pro无线蓝牙耳机\n",
      "1         【限时特惠】华为Mate30 Pro 5G全网通版\n",
      "2          【热销爆款】荣耀V30 Pro 5G双模双待手机\n",
      "3     【热卖抢购】三星Galaxy S20 Ultra 5G手机\n",
      "4           【爆款抢购】小米10 Pro 5G双模双待手机\n",
      "                  ...              \n",
      "95                  【促销】简约百搭真皮女士手抓包\n",
      "96                     【特价】百搭时尚拼接挎包\n",
      "97                     【新款】潮流款百搭斜挎包\n",
      "98                     【热销】经典款拼接双肩包\n",
      "99                    【精选】时尚真皮女士手提包\n",
      "Name: product_name, Length: 100, dtype: object\n"
     ]
    }
   ],
   "source": [
    "# append clothes_df to df\n",
    "df = pd.concat([df, clothes_df], axis=0)\n",
    "df = df.reset_index(drop=True)\n",
    "print(df.product_name)"
   ]
  },
  {
   "cell_type": "code",
   "execution_count": 7,
   "metadata": {},
   "outputs": [
    {
     "data": {
      "text/html": [
       "<div>\n",
       "<style scoped>\n",
       "    .dataframe tbody tr th:only-of-type {\n",
       "        vertical-align: middle;\n",
       "    }\n",
       "\n",
       "    .dataframe tbody tr th {\n",
       "        vertical-align: top;\n",
       "    }\n",
       "\n",
       "    .dataframe thead th {\n",
       "        text-align: right;\n",
       "    }\n",
       "</style>\n",
       "<table border=\"1\" class=\"dataframe\">\n",
       "  <thead>\n",
       "    <tr style=\"text-align: right;\">\n",
       "      <th></th>\n",
       "      <th>product_name</th>\n",
       "    </tr>\n",
       "  </thead>\n",
       "  <tbody>\n",
       "    <tr>\n",
       "      <th>0</th>\n",
       "      <td>【新品上市】苹果AirPods Pro无线蓝牙耳机</td>\n",
       "    </tr>\n",
       "    <tr>\n",
       "      <th>1</th>\n",
       "      <td>【限时特惠】华为Mate30 Pro 5G全网通版</td>\n",
       "    </tr>\n",
       "    <tr>\n",
       "      <th>2</th>\n",
       "      <td>【热销爆款】荣耀V30 Pro 5G双模双待手机</td>\n",
       "    </tr>\n",
       "    <tr>\n",
       "      <th>3</th>\n",
       "      <td>【热卖抢购】三星Galaxy S20 Ultra 5G手机</td>\n",
       "    </tr>\n",
       "    <tr>\n",
       "      <th>4</th>\n",
       "      <td>【爆款抢购】小米10 Pro 5G双模双待手机</td>\n",
       "    </tr>\n",
       "    <tr>\n",
       "      <th>...</th>\n",
       "      <td>...</td>\n",
       "    </tr>\n",
       "    <tr>\n",
       "      <th>95</th>\n",
       "      <td>【促销】简约百搭真皮女士手抓包</td>\n",
       "    </tr>\n",
       "    <tr>\n",
       "      <th>96</th>\n",
       "      <td>【特价】百搭时尚拼接挎包</td>\n",
       "    </tr>\n",
       "    <tr>\n",
       "      <th>97</th>\n",
       "      <td>【新款】潮流款百搭斜挎包</td>\n",
       "    </tr>\n",
       "    <tr>\n",
       "      <th>98</th>\n",
       "      <td>【热销】经典款拼接双肩包</td>\n",
       "    </tr>\n",
       "    <tr>\n",
       "      <th>99</th>\n",
       "      <td>【精选】时尚真皮女士手提包</td>\n",
       "    </tr>\n",
       "  </tbody>\n",
       "</table>\n",
       "<p>100 rows × 1 columns</p>\n",
       "</div>"
      ],
      "text/plain": [
       "                     product_name\n",
       "0       【新品上市】苹果AirPods Pro无线蓝牙耳机\n",
       "1       【限时特惠】华为Mate30 Pro 5G全网通版\n",
       "2        【热销爆款】荣耀V30 Pro 5G双模双待手机\n",
       "3   【热卖抢购】三星Galaxy S20 Ultra 5G手机\n",
       "4         【爆款抢购】小米10 Pro 5G双模双待手机\n",
       "..                            ...\n",
       "95                【促销】简约百搭真皮女士手抓包\n",
       "96                   【特价】百搭时尚拼接挎包\n",
       "97                   【新款】潮流款百搭斜挎包\n",
       "98                   【热销】经典款拼接双肩包\n",
       "99                  【精选】时尚真皮女士手提包\n",
       "\n",
       "[100 rows x 1 columns]"
      ]
     },
     "metadata": {},
     "output_type": "display_data"
    }
   ],
   "source": [
    "display(df)"
   ]
  },
  {
   "cell_type": "markdown",
   "metadata": {},
   "source": [
    "## 通过Embedding进行语义搜索"
   ]
  },
  {
   "cell_type": "code",
   "execution_count": 8,
   "metadata": {},
   "outputs": [],
   "source": [
    "from openai.embeddings_utils import get_embeddings\n",
    "import openai, os, backoff\n",
    "\n",
    "openai.api_key = os.environ.get(\"OPENAI_API_KEY\")\n",
    "embedding_model = \"text-embedding-ada-002\"\n",
    "\n",
    "batch_size = 100\n",
    "\n",
    "@backoff.on_exception(backoff.expo, openai.error.RateLimitError)\n",
    "def get_embeddings_with_backoff(prompts, engine):\n",
    "    embeddings = []\n",
    "    for i in range(0, len(prompts), batch_size):\n",
    "        batch = prompts[i:i+batch_size]\n",
    "        embeddings += get_embeddings(list_of_text=batch, engine=engine)\n",
    "    return embeddings\n",
    "\n",
    "prompts = df.product_name.tolist()\n",
    "prompt_batches = [prompts[i:i+batch_size] for i in range(0, len(prompts), batch_size)]\n",
    "\n",
    "embeddings = []\n",
    "for batch in prompt_batches:\n",
    "    batch_embeddings = get_embeddings_with_backoff(prompts=batch, engine=embedding_model)\n",
    "    embeddings += batch_embeddings\n",
    "\n",
    "df[\"embedding\"] = embeddings\n",
    "df.to_parquet(\"data/taobao_product_title.parquet\", index=False)"
   ]
  },
  {
   "cell_type": "code",
   "execution_count": 9,
   "metadata": {},
   "outputs": [
    {
     "name": "stdout",
     "output_type": "stream",
     "text": [
      "【新品】潮流款简约挎包\n",
      "潮流撞色腰带女士手提包\n",
      "【新款】潮流款真皮双肩包\n"
     ]
    }
   ],
   "source": [
    "from openai.embeddings_utils import get_embedding, cosine_similarity\n",
    "\n",
    "# search through the reviews for a specific product\n",
    "def search_product(df, query, n=3, pprint=True):\n",
    "    product_embedding = get_embedding(\n",
    "        query,\n",
    "        engine=embedding_model\n",
    "    )\n",
    "    df[\"similarity\"] = df.embedding.apply(lambda x: cosine_similarity(x, product_embedding))\n",
    "\n",
    "    results = (\n",
    "        df.sort_values(\"similarity\", ascending=False)\n",
    "        .head(n)\n",
    "        .product_name\n",
    "    )\n",
    "    if pprint:\n",
    "        for r in results:\n",
    "            print(r)\n",
    "    return results\n",
    "\n",
    "\n",
    "results = search_product(df, \"自然淡雅背包\", n=3)"
   ]
  },
  {
   "cell_type": "markdown",
   "metadata": {},
   "source": [
    "## 利用Embedding信息进行商品推荐的冷启动"
   ]
  },
  {
   "cell_type": "code",
   "execution_count": 11,
   "metadata": {},
   "outputs": [
    {
     "name": "stdout",
     "output_type": "stream",
     "text": [
      "【限时特惠】华为Mate30 Pro 5G全网通版\n",
      "【限时特惠】华为Mate 20 Pro 5G双模双待手机\n",
      "【限时特惠】华为P30 Pro 5G双模双待手机\n"
     ]
    }
   ],
   "source": [
    "def recommend_product(df, product_name, n=3, pprint=True):\n",
    "    product_embedding = df[df['product_name'] == product_name].iloc[0].embedding\n",
    "    df[\"similarity\"] = df.embedding.apply(lambda x: cosine_similarity(x, product_embedding))\n",
    "\n",
    "    results = (\n",
    "        df.sort_values(\"similarity\", ascending=False)\n",
    "        .head(n)\n",
    "        .product_name\n",
    "    )\n",
    "    if pprint:\n",
    "        for r in results:\n",
    "            print(r)\n",
    "    return results\n",
    "\n",
    "results = recommend_product(df, \"【限时特惠】华为Mate30 Pro 5G全网通版\", n=3)"
   ]
  },
  {
   "cell_type": "markdown",
   "metadata": {},
   "source": [
    "## 通过FAISS加速搜索过程"
   ]
  },
  {
   "cell_type": "code",
   "execution_count": 1,
   "metadata": {},
   "outputs": [
    {
     "name": "stdout",
     "output_type": "stream",
     "text": [
      "Collecting package metadata (current_repodata.json): done\n",
      "Solving environment: done\n",
      "\n",
      "## Package Plan ##\n",
      "\n",
      "  environment location: /Users/xuwenhao/miniconda3/envs/py310\n",
      "\n",
      "  added / updated specs:\n",
      "    - faiss\n",
      "\n",
      "\n",
      "The following packages will be SUPERSEDED by a higher-priority channel:\n",
      "\n",
      "  ca-certificates    pkgs/main::ca-certificates-2023.01.10~ --> conda-forge::ca-certificates-2022.12.7-h033912b_0 \n",
      "  certifi            pkgs/main/osx-64::certifi-2022.12.7-p~ --> conda-forge/noarch::certifi-2022.12.7-pyhd8ed1ab_0 \n",
      "  openssl              pkgs/main::openssl-1.1.1t-hca72f7f_0 --> conda-forge::openssl-1.1.1t-hfd90126_0 \n",
      "\n",
      "\n",
      "\n",
      "Downloading and Extracting Packages\n",
      "\n",
      "Preparing transaction: done\n",
      "Verifying transaction: done\n",
      "Executing transaction: done\n",
      "\n",
      "Note: you may need to restart the kernel to use updated packages.\n"
     ]
    }
   ],
   "source": [
    "%conda install -c conda-forge faiss"
   ]
  },
  {
   "cell_type": "code",
   "execution_count": 16,
   "metadata": {},
   "outputs": [
    {
     "name": "stdout",
     "output_type": "stream",
     "text": [
      "1536\n",
      "<faiss.swigfaiss.IndexFlatL2; proxy of <Swig Object of type 'faiss::IndexFlatL2 *' at 0x7f4541ae1720> >\n"
     ]
    }
   ],
   "source": [
    "import faiss\n",
    "import numpy as np\n",
    "\n",
    "embeddings_test = np.array(df['embedding'].tolist()).astype('float32')\n",
    "print(embeddings_test.shape[1])\n",
    "index_test = faiss.IndexFlatL2(embeddings_test.shape[1])\n",
    "index_test.add(embeddings_test)\n",
    "print(index_test)"
   ]
  },
  {
   "cell_type": "code",
   "execution_count": 19,
   "metadata": {},
   "outputs": [],
   "source": [
    "def search_index(index, df, query, k=5):\n",
    "    query_vector = np.array(get_embedding(query, engine=embedding_model)).reshape(1, -1).astype('float32')\n",
    "    distances, indexes = index.search(query_vector, k)\n",
    "\n",
    "    results = []\n",
    "    for i in range(len(indexes)):\n",
    "        product_names = df.iloc[indexes[i]]['product_name'].values.tolist()\n",
    "        results.append((distances[i], product_names))    \n",
    "    return results\n",
    "\n",
    "products = search_index(index, df, \"自然淡雅背包\", k=3)"
   ]
  },
  {
   "cell_type": "code",
   "execution_count": 21,
   "metadata": {},
   "outputs": [
    {
     "name": "stdout",
     "output_type": "stream",
     "text": [
      "number is 0 【新品】潮流款简约挎包 0.22879115\n",
      "number is 1 潮流撞色腰带女士手提包 0.2348077\n",
      "number is 2 【新款】潮流款真皮双肩包 0.2386006\n"
     ]
    }
   ],
   "source": [
    "for distances, product_names in products:\n",
    "    for i in range(len(distances)):\n",
    "        print(f\"number is {i}\", product_names[i], distances[i])\n"
   ]
  },
  {
   "cell_type": "code",
   "execution_count": null,
   "metadata": {},
   "outputs": [],
   "source": []
  }
 ],
 "metadata": {
  "kernelspec": {
   "display_name": "pytorch",
   "language": "python",
   "name": "python3"
  },
  "language_info": {
   "codemirror_mode": {
    "name": "ipython",
    "version": 3
   },
   "file_extension": ".py",
   "mimetype": "text/x-python",
   "name": "python",
   "nbconvert_exporter": "python",
   "pygments_lexer": "ipython3",
   "version": "3.8.16"
  },
  "vscode": {
   "interpreter": {
    "hash": "48d0035c4597c010537c5600c851b7c11b77fad7809e6cc4124da6d810c8f876"
   }
  }
 },
 "nbformat": 4,
 "nbformat_minor": 4
}
