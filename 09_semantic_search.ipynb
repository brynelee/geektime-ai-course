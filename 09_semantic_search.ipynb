{
 "cells": [
  {
   "cell_type": "markdown",
   "metadata": {},
   "source": [
    "## 让AI生成点实验数据"
   ]
  },
  {
   "cell_type": "code",
   "execution_count": 1,
   "metadata": {},
   "outputs": [
    {
     "name": "stdout",
     "output_type": "stream",
     "text": [
      "\n",
      "\n",
      "1.新款Apple/苹果iPhoneXS/XR手机套装优惠\n",
      "2.正品华为Mate20Pro/P30Pro手机最新折扣\n",
      "3.2020新款iPad Pro/Air/Mini全系列特价\n",
      "4.惠普/戴尔笔记本电脑超低折扣\n",
      "5.小米/魅族手机新品特惠\n",
      "6.荣耀/OPPO新款手机热销\n",
      "7.苹果AirPods/Beats耳机大促\n",
      "8.索尼/佳能/尼康相机限时优惠\n",
      "9.华硕/惠普/戴尔台式电脑特惠\n",
      "10.苹果/三星智能电视超低价\n",
      "11.苹果/三星/华为智能手表特惠\n",
      "12.苹果/三星/华硕笔记本电脑折扣\n",
      "13.小米/乐视/索尼智能电视特价\n",
      "14.荣耀/小米/OPPO新品手机特惠\n",
      "15.小米/乐视/索尼智能电视特价\n",
      "16.Apple/苹果MacBook Pro/Air笔记本特惠\n",
      "17.荣耀/小米/OPPO新品手机特价\n",
      "18.华为/OPPO/小米智能手表最新折扣\n",
      "19.华硕/惠普/戴尔台式电脑超低价\n",
      "20.Apple/苹果iPad Pro/Air/Mini全系列特惠\n",
      "21.索尼/佳能/尼康相机限时特价\n",
      "22.华为/OPPO/小米智能手表最新折扣\n",
      "23.苹果AirPods/Beats耳机大促销\n",
      "24.新款Apple/苹果iPhoneXS/XR手机特惠\n",
      "25.正品华为Mate20Pro/P30Pro手机热销\n",
      "26.苹果/三星智能电视超低折扣\n",
      "27.小米/魅族手机新品特价\n",
      "28.荣耀/OPPO新款手机大促\n",
      "29.Apple/苹果MacBook Pro/Air笔记本特价\n",
      "30.小米/乐视/索尼智能电视超低折扣\n",
      "31.惠普/戴尔笔记本电脑最新优惠\n",
      "32.华硕/惠普/戴尔台式电脑超低价\n",
      "33.苹果/三星/华为智能手表特惠\n",
      "34.苹果/三星/华硕笔记本电脑特价\n",
      "35.新款Apple/苹果iPhoneXS/XR手机大促\n",
      "36.正品华为Mate20Pro/P30Pro手机特惠\n",
      "37.2020新款iPad Pro/Air/Mini全系列限时优惠\n",
      "38.小米/乐视/索尼智能电视特惠\n",
      "39.荣耀/OPPO新款手机超低折扣\n",
      "40.华为/OPPO/小米智能手表最新特惠\n",
      "41.苹果AirPods/Beats耳机大促销\n",
      "42.苹果/三星智能电视特惠\n",
      "43.苹果/三星/华硕笔记本电脑特价\n",
      "44.小米/魅族手机新品超低折扣\n",
      "45.惠普/戴尔笔记本电脑限时优惠\n",
      "46.索尼/佳能/尼康相机特惠\n",
      "47.华硕/惠普/戴尔台式电脑最新优惠\n",
      "48.苹果/三星/华为智能手表特价\n",
      "49.Apple/苹果iPad Pro/Air/Mini全系列特惠\n",
      "50.荣耀/OPPO新款手机大促销\n"
     ]
    }
   ],
   "source": [
    "import openai, os\n",
    "\n",
    "openai.api_key = os.environ.get(\"OPENAI_API_KEY\")\n",
    "\n",
    "COMPLETION_MODEL = \"text-davinci-003\"\n",
    "\n",
    "def generate_data_by_prompt(prompt):\n",
    "    response = openai.Completion.create(\n",
    "        engine=COMPLETION_MODEL,\n",
    "        prompt=prompt,\n",
    "        temperature=0.5,\n",
    "        max_tokens=2048,\n",
    "        top_p=1,\n",
    "    )\n",
    "    return response.choices[0].text\n",
    "\n",
    "prompt = \"\"\"请你生成50条淘宝网里的商品的标题，每条在30个字左右，品类是3C数码产品，标题里往往也会有一些促销类的信息，每行一条。\"\"\"\n",
    "data = generate_data_by_prompt(prompt)\n",
    "print(data)"
   ]
  },
  {
   "cell_type": "markdown",
   "metadata": {},
   "source": [
    "为了让数据和真实情况更加接近一点，我们可以好好设计一下我们的提示语。比如，我这里就指明了是淘宝的商品，品类是3C，并且标题里要包含一些促销信息。\n",
    "\n",
    "我们把拿到的返回结果，按行分割，加载到一个DataFrame里面，看看结果会是怎么样的："
   ]
  },
  {
   "cell_type": "code",
   "execution_count": 2,
   "metadata": {},
   "outputs": [
    {
     "data": {
      "text/html": [
       "<div>\n",
       "<style scoped>\n",
       "    .dataframe tbody tr th:only-of-type {\n",
       "        vertical-align: middle;\n",
       "    }\n",
       "\n",
       "    .dataframe tbody tr th {\n",
       "        vertical-align: top;\n",
       "    }\n",
       "\n",
       "    .dataframe thead th {\n",
       "        text-align: right;\n",
       "    }\n",
       "</style>\n",
       "<table border=\"1\" class=\"dataframe\">\n",
       "  <thead>\n",
       "    <tr style=\"text-align: right;\">\n",
       "      <th></th>\n",
       "      <th>product_name</th>\n",
       "    </tr>\n",
       "  </thead>\n",
       "  <tbody>\n",
       "    <tr>\n",
       "      <th>0</th>\n",
       "      <td>1.新款Apple/苹果iPhoneXS/XR手机套装优惠</td>\n",
       "    </tr>\n",
       "    <tr>\n",
       "      <th>1</th>\n",
       "      <td>2.正品华为Mate20Pro/P30Pro手机最新折扣</td>\n",
       "    </tr>\n",
       "    <tr>\n",
       "      <th>2</th>\n",
       "      <td>3.2020新款iPad Pro/Air/Mini全系列特价</td>\n",
       "    </tr>\n",
       "    <tr>\n",
       "      <th>3</th>\n",
       "      <td>4.惠普/戴尔笔记本电脑超低折扣</td>\n",
       "    </tr>\n",
       "    <tr>\n",
       "      <th>4</th>\n",
       "      <td>5.小米/魅族手机新品特惠</td>\n",
       "    </tr>\n",
       "  </tbody>\n",
       "</table>\n",
       "</div>"
      ],
      "text/plain": [
       "                     product_name\n",
       "0   1.新款Apple/苹果iPhoneXS/XR手机套装优惠\n",
       "1    2.正品华为Mate20Pro/P30Pro手机最新折扣\n",
       "2  3.2020新款iPad Pro/Air/Mini全系列特价\n",
       "3                4.惠普/戴尔笔记本电脑超低折扣\n",
       "4                   5.小米/魅族手机新品特惠"
      ]
     },
     "execution_count": 2,
     "metadata": {},
     "output_type": "execute_result"
    }
   ],
   "source": [
    "import pandas as pd\n",
    "\n",
    "product_names = data.strip().split('\\n')\n",
    "df = pd.DataFrame({'product_name': product_names})\n",
    "df.head()"
   ]
  },
  {
   "cell_type": "code",
   "execution_count": 3,
   "metadata": {},
   "outputs": [
    {
     "data": {
      "text/html": [
       "<div>\n",
       "<style scoped>\n",
       "    .dataframe tbody tr th:only-of-type {\n",
       "        vertical-align: middle;\n",
       "    }\n",
       "\n",
       "    .dataframe tbody tr th {\n",
       "        vertical-align: top;\n",
       "    }\n",
       "\n",
       "    .dataframe thead th {\n",
       "        text-align: right;\n",
       "    }\n",
       "</style>\n",
       "<table border=\"1\" class=\"dataframe\">\n",
       "  <thead>\n",
       "    <tr style=\"text-align: right;\">\n",
       "      <th></th>\n",
       "      <th>product_name</th>\n",
       "    </tr>\n",
       "  </thead>\n",
       "  <tbody>\n",
       "    <tr>\n",
       "      <th>0</th>\n",
       "      <td>新款Apple/苹果iPhoneXS/XR手机套装优惠</td>\n",
       "    </tr>\n",
       "    <tr>\n",
       "      <th>1</th>\n",
       "      <td>正品华为Mate20Pro/P30Pro手机最新折扣</td>\n",
       "    </tr>\n",
       "    <tr>\n",
       "      <th>2</th>\n",
       "      <td>2020新款iPad Pro/Air/Mini全系列特价</td>\n",
       "    </tr>\n",
       "    <tr>\n",
       "      <th>3</th>\n",
       "      <td>惠普/戴尔笔记本电脑超低折扣</td>\n",
       "    </tr>\n",
       "    <tr>\n",
       "      <th>4</th>\n",
       "      <td>小米/魅族手机新品特惠</td>\n",
       "    </tr>\n",
       "  </tbody>\n",
       "</table>\n",
       "</div>"
      ],
      "text/plain": [
       "                   product_name\n",
       "0   新款Apple/苹果iPhoneXS/XR手机套装优惠\n",
       "1    正品华为Mate20Pro/P30Pro手机最新折扣\n",
       "2  2020新款iPad Pro/Air/Mini全系列特价\n",
       "3                惠普/戴尔笔记本电脑超低折扣\n",
       "4                   小米/魅族手机新品特惠"
      ]
     },
     "execution_count": 3,
     "metadata": {},
     "output_type": "execute_result"
    }
   ],
   "source": [
    "df.product_name = df.product_name.apply(lambda x: x.split('.')[1].strip())\n",
    "df.head()"
   ]
  },
  {
   "cell_type": "code",
   "execution_count": 4,
   "metadata": {},
   "outputs": [],
   "source": [
    "clothes_prompt = \"\"\"请你生成50条淘宝网里的商品的标题，每条在30个字左右，品类是女性的服饰箱包等等，标题里往往也会有一些促销类的信息，每行一条。\"\"\"\n",
    "clothes_data = generate_data_by_prompt(clothes_prompt)\n",
    "clothes_product_names = clothes_data.strip().split('\\n')\n"
   ]
  },
  {
   "cell_type": "code",
   "execution_count": 5,
   "metadata": {},
   "outputs": [
    {
     "data": {
      "text/html": [
       "<div>\n",
       "<style scoped>\n",
       "    .dataframe tbody tr th:only-of-type {\n",
       "        vertical-align: middle;\n",
       "    }\n",
       "\n",
       "    .dataframe tbody tr th {\n",
       "        vertical-align: top;\n",
       "    }\n",
       "\n",
       "    .dataframe thead th {\n",
       "        text-align: right;\n",
       "    }\n",
       "</style>\n",
       "<table border=\"1\" class=\"dataframe\">\n",
       "  <thead>\n",
       "    <tr style=\"text-align: right;\">\n",
       "      <th></th>\n",
       "      <th>product_name</th>\n",
       "    </tr>\n",
       "  </thead>\n",
       "  <tbody>\n",
       "    <tr>\n",
       "      <th>0</th>\n",
       "      <td>【新款】真皮时尚单肩斜挎包</td>\n",
       "    </tr>\n",
       "    <tr>\n",
       "      <th>1</th>\n",
       "      <td>【精选】简约时尚女士包包</td>\n",
       "    </tr>\n",
       "    <tr>\n",
       "      <th>2</th>\n",
       "      <td>【优惠】百搭高贵气质手提包</td>\n",
       "    </tr>\n",
       "    <tr>\n",
       "      <th>3</th>\n",
       "      <td>【热卖】时尚百搭贝壳包</td>\n",
       "    </tr>\n",
       "    <tr>\n",
       "      <th>4</th>\n",
       "      <td>【特惠】经典款双肩斜挎包</td>\n",
       "    </tr>\n",
       "  </tbody>\n",
       "</table>\n",
       "</div>"
      ],
      "text/plain": [
       "    product_name\n",
       "0  【新款】真皮时尚单肩斜挎包\n",
       "1   【精选】简约时尚女士包包\n",
       "2  【优惠】百搭高贵气质手提包\n",
       "3    【热卖】时尚百搭贝壳包\n",
       "4   【特惠】经典款双肩斜挎包"
      ]
     },
     "execution_count": 5,
     "metadata": {},
     "output_type": "execute_result"
    }
   ],
   "source": [
    "clothes_df = pd.DataFrame({'product_name': clothes_product_names})\n",
    "clothes_df.product_name = clothes_df.product_name.apply(lambda x: x.split('.')[1].strip())\n",
    "clothes_df.head()"
   ]
  },
  {
   "cell_type": "code",
   "execution_count": 6,
   "metadata": {},
   "outputs": [
    {
     "name": "stdout",
     "output_type": "stream",
     "text": [
      "0      新款Apple/苹果iPhoneXS/XR手机套装优惠\n",
      "1       正品华为Mate20Pro/P30Pro手机最新折扣\n",
      "2     2020新款iPad Pro/Air/Mini全系列特价\n",
      "3                   惠普/戴尔笔记本电脑超低折扣\n",
      "4                      小米/魅族手机新品特惠\n",
      "                  ...             \n",
      "95                   【热销】真皮时尚单肩斜挎包\n",
      "96                   【新品】百搭高贵气质手提包\n",
      "97                     【特惠】时尚百搭贝壳包\n",
      "98                    【限量】经典款双肩斜挎包\n",
      "99                   【热销】简约活力拼接手提包\n",
      "Name: product_name, Length: 100, dtype: object\n"
     ]
    }
   ],
   "source": [
    "# append clothes_df to df\n",
    "df = pd.concat([df, clothes_df], axis=0)\n",
    "df = df.reset_index(drop=True)\n",
    "print(df.product_name)"
   ]
  },
  {
   "cell_type": "code",
   "execution_count": 7,
   "metadata": {},
   "outputs": [
    {
     "data": {
      "text/html": [
       "<div>\n",
       "<style scoped>\n",
       "    .dataframe tbody tr th:only-of-type {\n",
       "        vertical-align: middle;\n",
       "    }\n",
       "\n",
       "    .dataframe tbody tr th {\n",
       "        vertical-align: top;\n",
       "    }\n",
       "\n",
       "    .dataframe thead th {\n",
       "        text-align: right;\n",
       "    }\n",
       "</style>\n",
       "<table border=\"1\" class=\"dataframe\">\n",
       "  <thead>\n",
       "    <tr style=\"text-align: right;\">\n",
       "      <th></th>\n",
       "      <th>product_name</th>\n",
       "    </tr>\n",
       "  </thead>\n",
       "  <tbody>\n",
       "    <tr>\n",
       "      <th>0</th>\n",
       "      <td>新款Apple/苹果iPhoneXS/XR手机套装优惠</td>\n",
       "    </tr>\n",
       "    <tr>\n",
       "      <th>1</th>\n",
       "      <td>正品华为Mate20Pro/P30Pro手机最新折扣</td>\n",
       "    </tr>\n",
       "    <tr>\n",
       "      <th>2</th>\n",
       "      <td>2020新款iPad Pro/Air/Mini全系列特价</td>\n",
       "    </tr>\n",
       "    <tr>\n",
       "      <th>3</th>\n",
       "      <td>惠普/戴尔笔记本电脑超低折扣</td>\n",
       "    </tr>\n",
       "    <tr>\n",
       "      <th>4</th>\n",
       "      <td>小米/魅族手机新品特惠</td>\n",
       "    </tr>\n",
       "    <tr>\n",
       "      <th>...</th>\n",
       "      <td>...</td>\n",
       "    </tr>\n",
       "    <tr>\n",
       "      <th>95</th>\n",
       "      <td>【热销】真皮时尚单肩斜挎包</td>\n",
       "    </tr>\n",
       "    <tr>\n",
       "      <th>96</th>\n",
       "      <td>【新品】百搭高贵气质手提包</td>\n",
       "    </tr>\n",
       "    <tr>\n",
       "      <th>97</th>\n",
       "      <td>【特惠】时尚百搭贝壳包</td>\n",
       "    </tr>\n",
       "    <tr>\n",
       "      <th>98</th>\n",
       "      <td>【限量】经典款双肩斜挎包</td>\n",
       "    </tr>\n",
       "    <tr>\n",
       "      <th>99</th>\n",
       "      <td>【热销】简约活力拼接手提包</td>\n",
       "    </tr>\n",
       "  </tbody>\n",
       "</table>\n",
       "<p>100 rows × 1 columns</p>\n",
       "</div>"
      ],
      "text/plain": [
       "                    product_name\n",
       "0    新款Apple/苹果iPhoneXS/XR手机套装优惠\n",
       "1     正品华为Mate20Pro/P30Pro手机最新折扣\n",
       "2   2020新款iPad Pro/Air/Mini全系列特价\n",
       "3                 惠普/戴尔笔记本电脑超低折扣\n",
       "4                    小米/魅族手机新品特惠\n",
       "..                           ...\n",
       "95                 【热销】真皮时尚单肩斜挎包\n",
       "96                 【新品】百搭高贵气质手提包\n",
       "97                   【特惠】时尚百搭贝壳包\n",
       "98                  【限量】经典款双肩斜挎包\n",
       "99                 【热销】简约活力拼接手提包\n",
       "\n",
       "[100 rows x 1 columns]"
      ]
     },
     "metadata": {},
     "output_type": "display_data"
    }
   ],
   "source": [
    "display(df)"
   ]
  },
  {
   "cell_type": "markdown",
   "metadata": {},
   "source": [
    "## 通过Embedding进行语义搜索"
   ]
  },
  {
   "cell_type": "code",
   "execution_count": 8,
   "metadata": {},
   "outputs": [],
   "source": [
    "from openai.embeddings_utils import get_embeddings\n",
    "import openai, os, backoff\n",
    "\n",
    "openai.api_key = os.environ.get(\"OPENAI_API_KEY\")\n",
    "embedding_model = \"text-embedding-ada-002\"\n",
    "\n",
    "batch_size = 100\n",
    "\n",
    "@backoff.on_exception(backoff.expo, openai.error.RateLimitError)\n",
    "def get_embeddings_with_backoff(prompts, engine):\n",
    "    embeddings = []\n",
    "    for i in range(0, len(prompts), batch_size):\n",
    "        batch = prompts[i:i+batch_size]\n",
    "        embeddings += get_embeddings(list_of_text=batch, engine=engine)\n",
    "    return embeddings\n",
    "\n",
    "prompts = df.product_name.tolist()\n",
    "prompt_batches = [prompts[i:i+batch_size] for i in range(0, len(prompts), batch_size)]\n",
    "\n",
    "embeddings = []\n",
    "for batch in prompt_batches:\n",
    "    batch_embeddings = get_embeddings_with_backoff(prompts=batch, engine=embedding_model)\n",
    "    embeddings += batch_embeddings\n",
    "\n",
    "df[\"embedding\"] = embeddings\n",
    "df.to_parquet(\"data/taobao_product_title.parquet\", index=False)"
   ]
  },
  {
   "cell_type": "code",
   "execution_count": 9,
   "metadata": {},
   "outputs": [
    {
     "name": "stdout",
     "output_type": "stream",
     "text": [
      "【新品】百搭高贵气质手提包\n",
      "【新品】简约时尚女士包包\n",
      "【精选】简约时尚女士包包\n"
     ]
    }
   ],
   "source": [
    "from openai.embeddings_utils import get_embedding, cosine_similarity\n",
    "\n",
    "# search through the reviews for a specific product\n",
    "def search_product(df, query, n=3, pprint=True):\n",
    "    product_embedding = get_embedding(\n",
    "        query,\n",
    "        engine=embedding_model\n",
    "    )\n",
    "    df[\"similarity\"] = df.embedding.apply(lambda x: cosine_similarity(x, product_embedding))\n",
    "\n",
    "    results = (\n",
    "        df.sort_values(\"similarity\", ascending=False)\n",
    "        .head(n)\n",
    "        .product_name\n",
    "    )\n",
    "    if pprint:\n",
    "        for r in results:\n",
    "            print(r)\n",
    "    return results\n",
    "\n",
    "\n",
    "results = search_product(df, \"自然淡雅背包\", n=3)"
   ]
  },
  {
   "cell_type": "markdown",
   "metadata": {},
   "source": [
    "## 利用Embedding信息进行商品推荐的冷启动"
   ]
  },
  {
   "cell_type": "code",
   "execution_count": 11,
   "metadata": {},
   "outputs": [
    {
     "name": "stdout",
     "output_type": "stream",
     "text": [
      "Apple/苹果MacBook Pro/Air笔记本特惠\n",
      "Apple/苹果MacBook Pro/Air笔记本特价\n",
      "Apple/苹果iPad Pro/Air/Mini全系列特惠\n"
     ]
    }
   ],
   "source": [
    "def recommend_product(df, product_name, n=3, pprint=True):\n",
    "    product_embedding = df[df['product_name'] == product_name].iloc[0].embedding\n",
    "    df[\"similarity\"] = df.embedding.apply(lambda x: cosine_similarity(x, product_embedding))\n",
    "\n",
    "    results = (\n",
    "        df.sort_values(\"similarity\", ascending=False)\n",
    "        .head(n)\n",
    "        .product_name\n",
    "    )\n",
    "    if pprint:\n",
    "        for r in results:\n",
    "            print(r)\n",
    "    return results\n",
    "\n",
    "results = recommend_product(df, \"Apple/苹果MacBook Pro/Air笔记本特惠\", n=3)"
   ]
  },
  {
   "cell_type": "markdown",
   "metadata": {},
   "source": [
    "## 通过FAISS加速搜索过程"
   ]
  },
  {
   "cell_type": "code",
   "execution_count": 1,
   "metadata": {},
   "outputs": [
    {
     "name": "stdout",
     "output_type": "stream",
     "text": [
      "Collecting package metadata (current_repodata.json): done\n",
      "Solving environment: done\n",
      "\n",
      "## Package Plan ##\n",
      "\n",
      "  environment location: /Users/xuwenhao/miniconda3/envs/py310\n",
      "\n",
      "  added / updated specs:\n",
      "    - faiss\n",
      "\n",
      "\n",
      "The following packages will be SUPERSEDED by a higher-priority channel:\n",
      "\n",
      "  ca-certificates    pkgs/main::ca-certificates-2023.01.10~ --> conda-forge::ca-certificates-2022.12.7-h033912b_0 \n",
      "  certifi            pkgs/main/osx-64::certifi-2022.12.7-p~ --> conda-forge/noarch::certifi-2022.12.7-pyhd8ed1ab_0 \n",
      "  openssl              pkgs/main::openssl-1.1.1t-hca72f7f_0 --> conda-forge::openssl-1.1.1t-hfd90126_0 \n",
      "\n",
      "\n",
      "\n",
      "Downloading and Extracting Packages\n",
      "\n",
      "Preparing transaction: done\n",
      "Verifying transaction: done\n",
      "Executing transaction: done\n",
      "\n",
      "Note: you may need to restart the kernel to use updated packages.\n"
     ]
    }
   ],
   "source": [
    "%conda install -c conda-forge faiss"
   ]
  },
  {
   "cell_type": "code",
   "execution_count": 12,
   "metadata": {},
   "outputs": [],
   "source": [
    "import faiss\n",
    "import numpy as np\n",
    "\n",
    "def load_embeddings_to_faiss(df):\n",
    "    embeddings = np.array(df['embedding'].tolist()).astype('float32')\n",
    "    index = faiss.IndexFlatL2(embeddings.shape[1])\n",
    "    index.add(embeddings)\n",
    "    return index\n",
    "\n",
    "index = load_embeddings_to_faiss(df)"
   ]
  },
  {
   "cell_type": "code",
   "execution_count": 13,
   "metadata": {},
   "outputs": [],
   "source": [
    "def search_index(index, df, query, k=5):\n",
    "    query_vector = np.array(get_embedding(query, engine=embedding_model)).reshape(1, -1).astype('float32')\n",
    "    distances, indexes = index.search(query_vector, k)\n",
    "\n",
    "    results = []\n",
    "    for i in range(len(indexes)):\n",
    "        product_names = df.iloc[indexes[i]]['product_name'].values.tolist()\n",
    "        results.append((distances[i], product_names))    \n",
    "    return results\n",
    "\n",
    "products = search_index(index, df, \"自然淡雅背包\", k=3)"
   ]
  },
  {
   "cell_type": "code",
   "execution_count": 14,
   "metadata": {},
   "outputs": [
    {
     "name": "stdout",
     "output_type": "stream",
     "text": [
      "【新品】百搭高贵气质手提包 0.23767906\n",
      "【新品】简约时尚女士包包 0.23816529\n",
      "【精选】简约时尚女士包包 0.23835516\n"
     ]
    }
   ],
   "source": [
    "for distances, product_names in products:\n",
    "    for i in range(len(distances)):\n",
    "        print(product_names[i], distances[i])\n"
   ]
  },
  {
   "cell_type": "code",
   "execution_count": null,
   "metadata": {},
   "outputs": [],
   "source": []
  }
 ],
 "metadata": {
  "kernelspec": {
   "display_name": "Python 3",
   "language": "python",
   "name": "python3"
  },
  "language_info": {
   "codemirror_mode": {
    "name": "ipython",
    "version": 3
   },
   "file_extension": ".py",
   "mimetype": "text/x-python",
   "name": "python",
   "nbconvert_exporter": "python",
   "pygments_lexer": "ipython3",
   "version": "3.8.8"
  },
  "vscode": {
   "interpreter": {
    "hash": "8114e84f04cf14e493992e1b725447accf84073d5ec18e7063d492738bf032cb"
   }
  }
 },
 "nbformat": 4,
 "nbformat_minor": 4
}
