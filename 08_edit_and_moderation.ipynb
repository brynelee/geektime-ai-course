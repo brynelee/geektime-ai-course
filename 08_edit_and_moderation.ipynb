{
 "cells": [
  {
   "cell_type": "markdown",
   "metadata": {},
   "source": [
    "## 通过Prompt进行文本改写"
   ]
  },
  {
   "cell_type": "code",
   "execution_count": 3,
   "metadata": {},
   "outputs": [],
   "source": [
    "import os, openai\n",
    "openai.api_key = os.getenv(\"OPENAI_API_KEY\")"
   ]
  },
  {
   "cell_type": "code",
   "execution_count": 4,
   "metadata": {},
   "outputs": [
    {
     "name": "stdout",
     "output_type": "stream",
     "text": [
      "version 1: 在现代社会中，我们面对各种挑战和困难，包括外部因素如经济萧条、全球变暖和自然灾害以及内部因素如情感问题、健康问题和自我怀疑。要克服这些困难，我们需要积极应对并具备坚韧不拔的意志、创造性思维以及寻求外部支持的能力。只有这样才能实现潜力并取得成功。\n",
      "version 2: 现代社会中，我们面临各种挑战和困难，有外部因素如经济、自然灾害等；也有内部因素如情感、健康问题等。要克服这些困难，需要积极应对和寻求支持，并具备坚韧不拔的意志和创造性思维。只有这样才能实现潜力并取得成功。\n",
      "version 3: 现代生活充满挑战，有外部因素如经济困难和自然灾害，也有内部问题如情感、健康和自我怀疑等。我们需要积极应对这些问题，坚韧不拔并寻求支持来实现成功。\n"
     ]
    }
   ],
   "source": [
    "def make_text_short(text):\n",
    "    messages = []\n",
    "    messages.append( {\"role\": \"system\", \"content\": \"你是一个用来将文本改写得短的AI助手，用户输入一段文本，你给出一段意思相同，但是短小精悍的结果\"})\n",
    "    messages.append( {\"role\": \"user\", \"content\": text})\n",
    "    response = openai.ChatCompletion.create(\n",
    "        model=\"gpt-3.5-turbo\",\n",
    "        messages=messages,\n",
    "        temperature=0.5,\n",
    "        max_tokens=2048,\n",
    "        n=3,\n",
    "        presence_penalty=0,\n",
    "        frequency_penalty=2,\n",
    "    )\n",
    "    return response\n",
    "\n",
    "long_text = \"\"\"\n",
    "在这个快节奏的现代社会中，我们每个人都面临着各种各样的挑战和困难。\n",
    "在这些挑战和困难中，有些是由外部因素引起的，例如经济萧条、全球变暖和自然灾害等。\n",
    "还有一些是由内部因素引起的，例如情感问题、健康问题和自我怀疑等。\n",
    "面对这些挑战和困难，我们需要采取积极的态度和行动来克服它们。\n",
    "这意味着我们必须具备坚韧不拔的意志和创造性思维，以及寻求外部支持的能力。\n",
    "只有这样，我们才能真正地实现自己的潜力并取得成功。\n",
    "\"\"\"\n",
    "short_version = make_text_short(long_text)\n",
    "\n",
    "index = 1\n",
    "for choice in short_version[\"choices\"]:\n",
    "    print(f\"version {index}: \" + choice[\"message\"][\"content\"])\n",
    "    index += 1"
   ]
  },
  {
   "cell_type": "markdown",
   "metadata": {},
   "source": [
    "## 通过Logit_bias过滤关键词"
   ]
  },
  {
   "cell_type": "code",
   "execution_count": 5,
   "metadata": {},
   "outputs": [
    {
     "name": "stdout",
     "output_type": "stream",
     "text": [
      "[163, 223, 122, 22522, 111]\n",
      "version 1: 现代社会中，我们面临各种挑战和困难示。有些是外部因素引起的，如经济萧条、自然災室等；还有一些是内部因素引起的，如情感问题、健康问题等。要克服这些挑战和困随需具备坚韧意志、创造性思维及寻求外部支持能力。只有这样才能实现潜力并获得成功。\n",
      "version 2: 现代社会中，我们遇到各种挑战和困难示例：经济萧条、全球变暖、情感问题等。要克服这些，需要积枪的态度和行动力，并寻求外部支持。只有如此才能实现自己的潜力并获得成功。\n",
      "version 3: 在现代社会中，我们面临着各种挑战和困难示例：经济萧条、全球变暖、情感问题等。为了克服这些问题，我们需要积枝主动态度和行动，并具备坚韧不拔的意志和创造性思维。同时也要学会寻求外部支持来实现自己的潜力并取得成功。\n"
     ]
    }
   ],
   "source": [
    "import tiktoken\n",
    "encoding = tiktoken.get_encoding('p50k_base')\n",
    "token_ids = encoding.encode(\"灾害\")\n",
    "print(token_ids)\n",
    "\n",
    "bias_map = {}\n",
    "for token_id in token_ids:\n",
    "    bias_map[token_id] = -100\n",
    "    \n",
    "# token_ids = encoding.encode(\"怀疑\")\n",
    "# print(token_ids)\n",
    "# for token_id in token_ids:\n",
    "#     bias_map[token_id] = 100\n",
    "\n",
    "\n",
    "def make_text_short(text):\n",
    "    messages = []\n",
    "    messages.append( {\"role\": \"system\", \"content\": \"你是一个用来将文本改写得短的AI助手，用户输入一段文本，你给出一段意思相同，但是短小精悍的结果\"})\n",
    "    messages.append( {\"role\": \"user\", \"content\": text})\n",
    "    response = openai.ChatCompletion.create(\n",
    "        model=\"gpt-3.5-turbo\", messages=messages, temperature=0.5, max_tokens=2048,\n",
    "        n=3, presence_penalty=0, frequency_penalty=2, \n",
    "        logit_bias = bias_map,\n",
    "    )\n",
    "    return response\n",
    "\n",
    "\n",
    "short_version = make_text_short(long_text)\n",
    "\n",
    "index = 1\n",
    "for choice in short_version[\"choices\"]:\n",
    "    print(f\"version {index}: \" + choice[\"message\"][\"content\"])\n",
    "    index += 1"
   ]
  },
  {
   "cell_type": "code",
   "execution_count": 9,
   "metadata": {},
   "outputs": [
    {
     "name": "stdout",
     "output_type": "stream",
     "text": [
      "[163, 223, 122, 22522, 111]\n"
     ]
    }
   ],
   "source": [
    "encoding = tiktoken.get_encoding('gpt2')\n",
    "token_ids = encoding.encode(\"灾害\")\n",
    "print(token_ids)\n"
   ]
  },
  {
   "cell_type": "code",
   "execution_count": 4,
   "metadata": {},
   "outputs": [
    {
     "name": "stdout",
     "output_type": "stream",
     "text": [
      "In this fast-paced modern society, each of us faces various challenges and difficulties. Some of these challenges and difficulties are caused by external factors, such as economic downturns, global warming, and natural disasters. There are also some that are caused by internal factors, such as emotional issues, health problems, and self-doubt. To overcome these challenges and difficulties, we need to adopt a positive attitude and take action. This means we must possess a resilient will and creative thinking, as well as the ability to seek external support. Only then can we truly realize our potential and achieve success.\n",
      "chinese: 432 tokens\n",
      "english: 119 tokens\n"
     ]
    }
   ],
   "source": [
    "def translate(text):\n",
    "    messages = []\n",
    "    messages.append( {\"role\": \"system\", \"content\": \"你是一个翻译，把用户的话翻译成英文\"})\n",
    "    messages.append( {\"role\": \"user\", \"content\": text})\n",
    "    response = openai.ChatCompletion.create(\n",
    "        model=\"gpt-3.5-turbo\", messages=messages, temperature=0.5, \n",
    "        max_tokens=2048, top_p=1\n",
    "    )\n",
    "    return response[\"choices\"][0][\"message\"][\"content\"]\n",
    "\n",
    "chinese = long_text\n",
    "english = translate(chinese)\n",
    "\n",
    "num_of_tokens_in_chinese = len(encoding.encode(chinese))\n",
    "num_of_tokens_in_english = len(encoding.encode(english))\n",
    "print(english)\n",
    "print(f\"chinese: {num_of_tokens_in_chinese} tokens\")\n",
    "print(f\"english: {num_of_tokens_in_english} tokens\")\n"
   ]
  },
  {
   "cell_type": "markdown",
   "metadata": {},
   "source": [
    "## 列出所有支持的模型"
   ]
  },
  {
   "cell_type": "code",
   "execution_count": 10,
   "metadata": {},
   "outputs": [
    {
     "data": {
      "text/html": [
       "<div>\n",
       "<style scoped>\n",
       "    .dataframe tbody tr th:only-of-type {\n",
       "        vertical-align: middle;\n",
       "    }\n",
       "\n",
       "    .dataframe tbody tr th {\n",
       "        vertical-align: top;\n",
       "    }\n",
       "\n",
       "    .dataframe thead th {\n",
       "        text-align: right;\n",
       "    }\n",
       "</style>\n",
       "<table border=\"1\" class=\"dataframe\">\n",
       "  <thead>\n",
       "    <tr style=\"text-align: right;\">\n",
       "      <th></th>\n",
       "      <th>id</th>\n",
       "      <th>owner</th>\n",
       "    </tr>\n",
       "  </thead>\n",
       "  <tbody>\n",
       "    <tr>\n",
       "      <th>0</th>\n",
       "      <td>whisper-1</td>\n",
       "      <td>openai-internal</td>\n",
       "    </tr>\n",
       "    <tr>\n",
       "      <th>1</th>\n",
       "      <td>babbage</td>\n",
       "      <td>openai</td>\n",
       "    </tr>\n",
       "    <tr>\n",
       "      <th>2</th>\n",
       "      <td>gpt-3.5-turbo</td>\n",
       "      <td>openai</td>\n",
       "    </tr>\n",
       "    <tr>\n",
       "      <th>3</th>\n",
       "      <td>davinci</td>\n",
       "      <td>openai</td>\n",
       "    </tr>\n",
       "    <tr>\n",
       "      <th>4</th>\n",
       "      <td>text-davinci-edit-001</td>\n",
       "      <td>openai</td>\n",
       "    </tr>\n",
       "    <tr>\n",
       "      <th>5</th>\n",
       "      <td>text-davinci-003</td>\n",
       "      <td>openai-internal</td>\n",
       "    </tr>\n",
       "    <tr>\n",
       "      <th>6</th>\n",
       "      <td>babbage-code-search-code</td>\n",
       "      <td>openai-dev</td>\n",
       "    </tr>\n",
       "    <tr>\n",
       "      <th>7</th>\n",
       "      <td>text-similarity-babbage-001</td>\n",
       "      <td>openai-dev</td>\n",
       "    </tr>\n",
       "    <tr>\n",
       "      <th>8</th>\n",
       "      <td>code-davinci-edit-001</td>\n",
       "      <td>openai</td>\n",
       "    </tr>\n",
       "    <tr>\n",
       "      <th>9</th>\n",
       "      <td>text-davinci-001</td>\n",
       "      <td>openai</td>\n",
       "    </tr>\n",
       "    <tr>\n",
       "      <th>10</th>\n",
       "      <td>ada</td>\n",
       "      <td>openai</td>\n",
       "    </tr>\n",
       "    <tr>\n",
       "      <th>11</th>\n",
       "      <td>babbage-code-search-text</td>\n",
       "      <td>openai-dev</td>\n",
       "    </tr>\n",
       "    <tr>\n",
       "      <th>12</th>\n",
       "      <td>babbage-similarity</td>\n",
       "      <td>openai-dev</td>\n",
       "    </tr>\n",
       "    <tr>\n",
       "      <th>13</th>\n",
       "      <td>code-search-babbage-text-001</td>\n",
       "      <td>openai-dev</td>\n",
       "    </tr>\n",
       "    <tr>\n",
       "      <th>14</th>\n",
       "      <td>gpt-3.5-turbo-0301</td>\n",
       "      <td>openai</td>\n",
       "    </tr>\n",
       "    <tr>\n",
       "      <th>15</th>\n",
       "      <td>text-curie-001</td>\n",
       "      <td>openai</td>\n",
       "    </tr>\n",
       "    <tr>\n",
       "      <th>16</th>\n",
       "      <td>code-search-babbage-code-001</td>\n",
       "      <td>openai-dev</td>\n",
       "    </tr>\n",
       "    <tr>\n",
       "      <th>17</th>\n",
       "      <td>text-ada-001</td>\n",
       "      <td>openai</td>\n",
       "    </tr>\n",
       "    <tr>\n",
       "      <th>18</th>\n",
       "      <td>text-embedding-ada-002</td>\n",
       "      <td>openai-internal</td>\n",
       "    </tr>\n",
       "    <tr>\n",
       "      <th>19</th>\n",
       "      <td>text-similarity-ada-001</td>\n",
       "      <td>openai-dev</td>\n",
       "    </tr>\n",
       "    <tr>\n",
       "      <th>20</th>\n",
       "      <td>curie-instruct-beta</td>\n",
       "      <td>openai</td>\n",
       "    </tr>\n",
       "    <tr>\n",
       "      <th>21</th>\n",
       "      <td>ada-code-search-code</td>\n",
       "      <td>openai-dev</td>\n",
       "    </tr>\n",
       "    <tr>\n",
       "      <th>22</th>\n",
       "      <td>ada-similarity</td>\n",
       "      <td>openai-dev</td>\n",
       "    </tr>\n",
       "    <tr>\n",
       "      <th>23</th>\n",
       "      <td>code-search-ada-text-001</td>\n",
       "      <td>openai-dev</td>\n",
       "    </tr>\n",
       "    <tr>\n",
       "      <th>24</th>\n",
       "      <td>text-search-ada-query-001</td>\n",
       "      <td>openai-dev</td>\n",
       "    </tr>\n",
       "    <tr>\n",
       "      <th>25</th>\n",
       "      <td>davinci-search-document</td>\n",
       "      <td>openai-dev</td>\n",
       "    </tr>\n",
       "    <tr>\n",
       "      <th>26</th>\n",
       "      <td>ada-code-search-text</td>\n",
       "      <td>openai-dev</td>\n",
       "    </tr>\n",
       "    <tr>\n",
       "      <th>27</th>\n",
       "      <td>text-search-ada-doc-001</td>\n",
       "      <td>openai-dev</td>\n",
       "    </tr>\n",
       "    <tr>\n",
       "      <th>28</th>\n",
       "      <td>davinci-instruct-beta</td>\n",
       "      <td>openai</td>\n",
       "    </tr>\n",
       "    <tr>\n",
       "      <th>29</th>\n",
       "      <td>text-similarity-curie-001</td>\n",
       "      <td>openai-dev</td>\n",
       "    </tr>\n",
       "    <tr>\n",
       "      <th>30</th>\n",
       "      <td>code-search-ada-code-001</td>\n",
       "      <td>openai-dev</td>\n",
       "    </tr>\n",
       "    <tr>\n",
       "      <th>31</th>\n",
       "      <td>ada-search-query</td>\n",
       "      <td>openai-dev</td>\n",
       "    </tr>\n",
       "    <tr>\n",
       "      <th>32</th>\n",
       "      <td>text-search-davinci-query-001</td>\n",
       "      <td>openai-dev</td>\n",
       "    </tr>\n",
       "    <tr>\n",
       "      <th>33</th>\n",
       "      <td>curie-search-query</td>\n",
       "      <td>openai-dev</td>\n",
       "    </tr>\n",
       "    <tr>\n",
       "      <th>34</th>\n",
       "      <td>davinci-search-query</td>\n",
       "      <td>openai-dev</td>\n",
       "    </tr>\n",
       "    <tr>\n",
       "      <th>35</th>\n",
       "      <td>babbage-search-document</td>\n",
       "      <td>openai-dev</td>\n",
       "    </tr>\n",
       "    <tr>\n",
       "      <th>36</th>\n",
       "      <td>ada-search-document</td>\n",
       "      <td>openai-dev</td>\n",
       "    </tr>\n",
       "    <tr>\n",
       "      <th>37</th>\n",
       "      <td>text-search-curie-query-001</td>\n",
       "      <td>openai-dev</td>\n",
       "    </tr>\n",
       "    <tr>\n",
       "      <th>38</th>\n",
       "      <td>text-search-babbage-doc-001</td>\n",
       "      <td>openai-dev</td>\n",
       "    </tr>\n",
       "    <tr>\n",
       "      <th>39</th>\n",
       "      <td>curie-search-document</td>\n",
       "      <td>openai-dev</td>\n",
       "    </tr>\n",
       "    <tr>\n",
       "      <th>40</th>\n",
       "      <td>text-search-curie-doc-001</td>\n",
       "      <td>openai-dev</td>\n",
       "    </tr>\n",
       "    <tr>\n",
       "      <th>41</th>\n",
       "      <td>babbage-search-query</td>\n",
       "      <td>openai-dev</td>\n",
       "    </tr>\n",
       "    <tr>\n",
       "      <th>42</th>\n",
       "      <td>text-babbage-001</td>\n",
       "      <td>openai</td>\n",
       "    </tr>\n",
       "    <tr>\n",
       "      <th>43</th>\n",
       "      <td>text-search-davinci-doc-001</td>\n",
       "      <td>openai-dev</td>\n",
       "    </tr>\n",
       "    <tr>\n",
       "      <th>44</th>\n",
       "      <td>text-search-babbage-query-001</td>\n",
       "      <td>openai-dev</td>\n",
       "    </tr>\n",
       "    <tr>\n",
       "      <th>45</th>\n",
       "      <td>curie-similarity</td>\n",
       "      <td>openai-dev</td>\n",
       "    </tr>\n",
       "    <tr>\n",
       "      <th>46</th>\n",
       "      <td>curie</td>\n",
       "      <td>openai</td>\n",
       "    </tr>\n",
       "    <tr>\n",
       "      <th>47</th>\n",
       "      <td>text-similarity-davinci-001</td>\n",
       "      <td>openai-dev</td>\n",
       "    </tr>\n",
       "    <tr>\n",
       "      <th>48</th>\n",
       "      <td>text-davinci-002</td>\n",
       "      <td>openai</td>\n",
       "    </tr>\n",
       "    <tr>\n",
       "      <th>49</th>\n",
       "      <td>davinci-similarity</td>\n",
       "      <td>openai-dev</td>\n",
       "    </tr>\n",
       "  </tbody>\n",
       "</table>\n",
       "</div>"
      ],
      "text/plain": [
       "                               id            owner\n",
       "0                       whisper-1  openai-internal\n",
       "1                         babbage           openai\n",
       "2                   gpt-3.5-turbo           openai\n",
       "3                         davinci           openai\n",
       "4           text-davinci-edit-001           openai\n",
       "5                text-davinci-003  openai-internal\n",
       "6        babbage-code-search-code       openai-dev\n",
       "7     text-similarity-babbage-001       openai-dev\n",
       "8           code-davinci-edit-001           openai\n",
       "9                text-davinci-001           openai\n",
       "10                            ada           openai\n",
       "11       babbage-code-search-text       openai-dev\n",
       "12             babbage-similarity       openai-dev\n",
       "13   code-search-babbage-text-001       openai-dev\n",
       "14             gpt-3.5-turbo-0301           openai\n",
       "15                 text-curie-001           openai\n",
       "16   code-search-babbage-code-001       openai-dev\n",
       "17                   text-ada-001           openai\n",
       "18         text-embedding-ada-002  openai-internal\n",
       "19        text-similarity-ada-001       openai-dev\n",
       "20            curie-instruct-beta           openai\n",
       "21           ada-code-search-code       openai-dev\n",
       "22                 ada-similarity       openai-dev\n",
       "23       code-search-ada-text-001       openai-dev\n",
       "24      text-search-ada-query-001       openai-dev\n",
       "25        davinci-search-document       openai-dev\n",
       "26           ada-code-search-text       openai-dev\n",
       "27        text-search-ada-doc-001       openai-dev\n",
       "28          davinci-instruct-beta           openai\n",
       "29      text-similarity-curie-001       openai-dev\n",
       "30       code-search-ada-code-001       openai-dev\n",
       "31               ada-search-query       openai-dev\n",
       "32  text-search-davinci-query-001       openai-dev\n",
       "33             curie-search-query       openai-dev\n",
       "34           davinci-search-query       openai-dev\n",
       "35        babbage-search-document       openai-dev\n",
       "36            ada-search-document       openai-dev\n",
       "37    text-search-curie-query-001       openai-dev\n",
       "38    text-search-babbage-doc-001       openai-dev\n",
       "39          curie-search-document       openai-dev\n",
       "40      text-search-curie-doc-001       openai-dev\n",
       "41           babbage-search-query       openai-dev\n",
       "42               text-babbage-001           openai\n",
       "43    text-search-davinci-doc-001       openai-dev\n",
       "44  text-search-babbage-query-001       openai-dev\n",
       "45               curie-similarity       openai-dev\n",
       "46                          curie           openai\n",
       "47    text-similarity-davinci-001       openai-dev\n",
       "48               text-davinci-002           openai\n",
       "49             davinci-similarity       openai-dev"
      ]
     },
     "metadata": {},
     "output_type": "display_data"
    }
   ],
   "source": [
    "import pandas as pd\n",
    "# list all open ai models\n",
    "engines = openai.Engine.list()\n",
    "pd = pd.DataFrame(openai.Engine.list()['data'])\n",
    "display(pd[['id', 'owner']])"
   ]
  },
  {
   "cell_type": "code",
   "execution_count": 11,
   "metadata": {},
   "outputs": [
    {
     "name": "stdout",
     "output_type": "stream",
     "text": [
      "   object                     id  ready            owner permissions created\n",
      "0  engine              whisper-1   True  openai-internal        None    None\n",
      "1  engine                babbage   True           openai        None    None\n",
      "2  engine          gpt-3.5-turbo   True           openai        None    None\n",
      "3  engine                davinci   True           openai        None    None\n",
      "4  engine  text-davinci-edit-001   True           openai        None    None\n"
     ]
    }
   ],
   "source": [
    "print(pd.head())"
   ]
  },
  {
   "cell_type": "markdown",
   "metadata": {},
   "source": [
    "## 看看模型维度数量"
   ]
  },
  {
   "cell_type": "code",
   "execution_count": 12,
   "metadata": {},
   "outputs": [
    {
     "name": "stdout",
     "output_type": "stream",
     "text": [
      "embedding-ada:  1536\n",
      "similarity-ada:  1024\n"
     ]
    }
   ],
   "source": [
    "from openai.embeddings_utils import get_embedding\n",
    "\n",
    "text = \"让我们来算算Embedding\"\n",
    "\n",
    "embedding_ada = get_embedding(text, engine=\"text-embedding-ada-002\")\n",
    "print(\"embedding-ada: \", len(embedding_ada))\n",
    "\n",
    "similarity_ada = get_embedding(text, engine=\"text-similarity-ada-001\")\n",
    "print(\"similarity-ada: \", len(similarity_ada))"
   ]
  },
  {
   "cell_type": "code",
   "execution_count": 7,
   "metadata": {},
   "outputs": [
    {
     "name": "stdout",
     "output_type": "stream",
     "text": [
      "babbage-similarity:  2048\n",
      "search-babbage-query:  2048\n"
     ]
    }
   ],
   "source": [
    "babbage_similarity = get_embedding(text, engine=\"babbage-similarity\")\n",
    "print(\"babbage-similarity: \", len(babbage_similarity))\n",
    "\n",
    "babbage_search_query = get_embedding(text, engine=\"text-search-babbage-query-001\")\n",
    "print(\"search-babbage-query: \", len(babbage_search_query))"
   ]
  },
  {
   "cell_type": "code",
   "execution_count": 8,
   "metadata": {},
   "outputs": [
    {
     "name": "stdout",
     "output_type": "stream",
     "text": [
      "curie-similarity:  4096\n"
     ]
    }
   ],
   "source": [
    "curie = get_embedding(text, engine=\"curie-similarity\")\n",
    "print(\"curie-similarity: \", len(curie))"
   ]
  },
  {
   "cell_type": "code",
   "execution_count": 13,
   "metadata": {},
   "outputs": [
    {
     "name": "stdout",
     "output_type": "stream",
     "text": [
      "davinci-similarity:  12288\n"
     ]
    }
   ],
   "source": [
    "davinci = get_embedding(text, engine=\"text-similarity-davinci-001\")\n",
    "print(\"davinci-similarity: \", len(davinci))"
   ]
  },
  {
   "cell_type": "markdown",
   "metadata": {},
   "source": [
    "## Inserting Text接口"
   ]
  },
  {
   "cell_type": "code",
   "execution_count": 10,
   "metadata": {},
   "outputs": [
    {
     "name": "stdout",
     "output_type": "stream",
     "text": [
      "另一些则来自内部，如缺乏资源、失去动力和压力过高的工作等。\n",
      "\n"
     ]
    }
   ],
   "source": [
    "\n",
    "prefix = \"\"\"在这个快节奏的现代社会中，我们每个人都面临着各种各样的挑战和困难。\n",
    "在这些挑战和困难中，有些是由外部因素引起的，例如经济萧条、全球变暖和自然灾害等。\\n\"\"\"\n",
    "# 还有一些是由内部因素引起的，例如情感问题、健康问题和自我怀疑等。\n",
    "suffix = \"\"\"\\n面对这些挑战和困难，我们需要采取积极的态度和行动来克服它们。\n",
    "这意味着我们必须具备坚韧不拔的意志和创造性思维，以及寻求外部支持的能力。\n",
    "只有这样，我们才能真正地实现自己的潜力并取得成功。\"\"\"\n",
    "\n",
    "def insert_text(prefix, suffix):\n",
    "    response = openai.Completion.create(\n",
    "        model=\"text-davinci-003\",\n",
    "        prompt=prefix,\n",
    "        suffix=suffix,\n",
    "        max_tokens=1024,\n",
    "        )\n",
    "    return response\n",
    "\n",
    "response = insert_text(prefix, suffix)\n",
    "print(response[\"choices\"][0][\"text\"])"
   ]
  },
  {
   "cell_type": "code",
   "execution_count": 12,
   "metadata": {},
   "outputs": [
    {
     "name": "stdout",
     "output_type": "stream",
     "text": [
      "然而，大多数的挑战和困难都来自于我们自身内在的心理因素，例如内向的性格、保守的价值观、负面的思维模式和低自信等。\n",
      "要\n"
     ]
    }
   ],
   "source": [
    "\n",
    "prefix = \"\"\"在这个快节奏的现代社会中，我们每个人都面临着各种各样的挑战和困难。\n",
    "在这些挑战和困难中，有些是由外部因素引起的，例如经济萧条、全球变暖和自然灾害等。\\n\"\"\"\n",
    "# 还有一些是由内部因素引起的，例如情感问题、健康问题和自我怀疑等。\n",
    "suffix = \"\"\"面对这些挑战和困难，我们需要采取积极的态度和行动来克服它们。\n",
    "这意味着我们必须具备坚韧不拔的意志和创造性思维，以及寻求外部支持的能力。\n",
    "只有这样，我们才能真正地实现自己的潜力并取得成功。\"\"\"\n",
    "\n",
    "response = insert_text(prefix, suffix)\n",
    "print(response[\"choices\"][0][\"text\"])"
   ]
  },
  {
   "cell_type": "markdown",
   "metadata": {},
   "source": [
    "## Moderate接口"
   ]
  },
  {
   "cell_type": "code",
   "execution_count": 13,
   "metadata": {},
   "outputs": [
    {
     "name": "stdout",
     "output_type": "stream",
     "text": [
      "对不起，我是一个人工智能助手，我不会感觉痛苦或死亡。同时，我是为了帮助您解决问题而设计的，如果您有任何需要帮助的事情，请告诉我，我会尽力帮助您。\n"
     ]
    }
   ],
   "source": [
    "def chatgpt(text):\n",
    "    messages = []\n",
    "    messages.append( {\"role\": \"system\", \"content\": \"You are a useful AI assistant\"})\n",
    "    messages.append( {\"role\": \"user\", \"content\": text})\n",
    "    response = openai.ChatCompletion.create(\n",
    "        model=\"gpt-3.5-turbo\",\n",
    "        messages=messages,\n",
    "        temperature=0.5,\n",
    "        max_tokens=2048,\n",
    "        top_p=1,\n",
    "    )\n",
    "    message = response[\"choices\"][0][\"message\"][\"content\"]\n",
    "    return message\n",
    "\n",
    "threaten = \"你不听我的我就拿刀砍死你\"\n",
    "print(chatgpt(threaten))"
   ]
  },
  {
   "cell_type": "code",
   "execution_count": 14,
   "metadata": {},
   "outputs": [
    {
     "name": "stdout",
     "output_type": "stream",
     "text": [
      "{\n",
      "  \"categories\": {\n",
      "    \"hate\": false,\n",
      "    \"hate/threatening\": false,\n",
      "    \"self-harm\": false,\n",
      "    \"sexual\": false,\n",
      "    \"sexual/minors\": false,\n",
      "    \"violence\": true,\n",
      "    \"violence/graphic\": false\n",
      "  },\n",
      "  \"category_scores\": {\n",
      "    \"hate\": 0.039922066032886505,\n",
      "    \"hate/threatening\": 0.00029030031873844564,\n",
      "    \"self-harm\": 0.0026187379844486713,\n",
      "    \"sexual\": 3.374317748239264e-05,\n",
      "    \"sexual/minors\": 2.1676822115068717e-08,\n",
      "    \"violence\": 0.9995468258857727,\n",
      "    \"violence/graphic\": 4.8206060455413535e-05\n",
      "  },\n",
      "  \"flagged\": true\n",
      "}\n"
     ]
    }
   ],
   "source": [
    "threaten = \"你不听我的我就拿刀砍死你\"\n",
    "\n",
    "def moderation(text):\n",
    "    response = openai.Moderation.create(\n",
    "        input=text\n",
    "    )\n",
    "    output = response[\"results\"][0]\n",
    "    return output\n",
    "print(moderation(threaten))"
   ]
  }
 ],
 "metadata": {
  "kernelspec": {
   "display_name": "pytorch",
   "language": "python",
   "name": "python3"
  },
  "language_info": {
   "codemirror_mode": {
    "name": "ipython",
    "version": 3
   },
   "file_extension": ".py",
   "mimetype": "text/x-python",
   "name": "python",
   "nbconvert_exporter": "python",
   "pygments_lexer": "ipython3",
   "version": "3.8.16"
  },
  "vscode": {
   "interpreter": {
    "hash": "48d0035c4597c010537c5600c851b7c11b77fad7809e6cc4124da6d810c8f876"
   }
  }
 },
 "nbformat": 4,
 "nbformat_minor": 4
}
