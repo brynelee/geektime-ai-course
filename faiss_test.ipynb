{
 "cells": [
  {
   "cell_type": "code",
   "execution_count": 1,
   "metadata": {},
   "outputs": [
    {
     "name": "stdout",
     "output_type": "stream",
     "text": [
      "[[0.19151945 0.62210876 0.43772775 0.7853586  0.77997583 0.2725926\n",
      "  0.27646425 0.8018722  0.95813936 0.87593263 0.35781726 0.5009951\n",
      "  0.6834629  0.71270204 0.37025076 0.5611962  0.50308317 0.01376845\n",
      "  0.7728266  0.8826412  0.364886   0.6153962  0.07538124 0.368824\n",
      "  0.9331401  0.65137815 0.39720258 0.78873014 0.31683612 0.56809866\n",
      "  0.8691274  0.4361734  0.8021476  0.14376682 0.70426095 0.7045813\n",
      "  0.21879211 0.92486763 0.44214076 0.90931594 0.05980922 0.18428709\n",
      "  0.04735528 0.6748809  0.59462476 0.5333102  0.04332406 0.5614331\n",
      "  0.32966843 0.5029668 ]]\n"
     ]
    }
   ],
   "source": [
    "import numpy as np\n",
    " \n",
    "# 构造数据\n",
    "import time\n",
    "d = 50                           # dimension\n",
    "nb = 1000000                     # database size\n",
    "np.random.seed(1234)             # make reproducible\n",
    "xb = np.random.random((nb, d)).astype('float32')\n",
    "xb[:, 0] += np.arange(nb) / 1000.\n",
    " \n",
    "print(xb[:1])\n",
    " \n",
    "# 写入文件中\n",
    "# np.savetxt('data.txt', xb)"
   ]
  }
 ],
 "metadata": {
  "kernelspec": {
   "display_name": "Python 3",
   "language": "python",
   "name": "python3"
  },
  "language_info": {
   "codemirror_mode": {
    "name": "ipython",
    "version": 3
   },
   "file_extension": ".py",
   "mimetype": "text/x-python",
   "name": "python",
   "nbconvert_exporter": "python",
   "pygments_lexer": "ipython3",
   "version": "3.11.2"
  },
  "orig_nbformat": 4,
  "vscode": {
   "interpreter": {
    "hash": "b00b7d4b28d7ddbb7ac41f2980b9f74a3d51d746f51dc881ac049d0399774f5c"
   }
  }
 },
 "nbformat": 4,
 "nbformat_minor": 2
}
