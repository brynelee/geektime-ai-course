{
 "cells": [
  {
   "cell_type": "code",
   "execution_count": 2,
   "metadata": {},
   "outputs": [],
   "source": [
    "import torch\n",
    "from transformers import pipeline\n",
    "\n",
    "# generate_text = pipeline(model=\"databricks/dolly-v2-3b\", torch_dtype=torch.bfloat16, trust_remote_code=True, device_map=\"auto\")\n",
    "generate_text = pipeline(model=\"databricks/dolly-v2-3b\", torch_dtype=torch.bfloat16, trust_remote_code=True, device=0)\n"
   ]
  },
  {
   "cell_type": "code",
   "execution_count": 3,
   "metadata": {},
   "outputs": [
    {
     "name": "stdout",
     "output_type": "stream",
     "text": [
      "In nuclear fission, atoms are split into smaller particles and release a lot of energy. Nuclear fusion, on the other hand, involves two or more atomic nuclei mergence to create a different atomic nucleus and much less energy is released.\n"
     ]
    }
   ],
   "source": [
    "res = generate_text(\"Explain to me the difference between nuclear fission and fusion.\")\n",
    "print(res[0][\"generated_text\"])\n"
   ]
  },
  {
   "cell_type": "code",
   "execution_count": 5,
   "metadata": {},
   "outputs": [
    {
     "name": "stdout",
     "output_type": "stream",
     "text": [
      "Monte Carlo is a technique to numerically evaluate a mathematical function f(x) that is not known to be integrable, i.e., has simple poles and branch cuts or just has complex roots.\n",
      "Below is a sample python code that computes π using Monte Carlo simulation.\n",
      "\n",
      "import math\n",
      "\n",
      "def mu(z):\n",
      "    return math.sqrt(1 - math.exp(-2*z))\n",
      "\n",
      "def denom(z):\n",
      "    return 1 - 2*math.exp(-2*z)\n",
      "\n",
      "pi = 0\n",
      "\n",
      "for z in range(-1, 1 + 0.99999, 0.00001):\n",
      "    pi += mu(z) * denom(z)\n",
      "\n",
      "print(pi)\n",
      "\n",
      "here is the output of the above code:\n",
      "24.58858896338\n",
      "\n",
      "here is the sample progress log when the program run:\n",
      "Epsilon = 0.00001; max_epsilon = 1e-5; max_iter = 1000; funct='mu'; print_derivative = False; for t in range(100):\n",
      "Epsilon = Epsilon / 10;\n",
      "  z = float(input('Enter a complex number: '))\n",
      "  if abs(z)\n"
     ]
    }
   ],
   "source": [
    "res = generate_text(\"give me a demo of Monte Carlo algorithm to calculate π in python\")\n",
    "print(res[0][\"generated_text\"])"
   ]
  },
  {
   "cell_type": "code",
   "execution_count": 6,
   "metadata": {},
   "outputs": [
    {
     "name": "stdout",
     "output_type": "stream",
     "text": [
      "suppose we have a list of numbers 1,2,3,4,5,6,7,8,9,10\n",
      "and we have to print the numbers in a descending order, using bubble sort algorithm\n",
      "here is the code for the same:\n",
      "#!/usr/bin/env python\n",
      "# coding: utf-8\n",
      "\n",
      "import operator\n",
      "\n",
      "def bubble_sort(numbers):\n",
      "    \n",
      "    new_list = []\n",
      "\n",
      "    #Initialize all elements with their corresponding number\n",
      "    for element in numbers:\n",
      "        new_list.append(element)\n",
      "        new_list.append(int(new_list[-1]))\n",
      "\n",
      "    #Print the list in reverse order\n",
      "    print(new_list)\n",
      "\n",
      "    #Loop while the list is not empty\n",
      "    while new_list:\n",
      "        #Find the minimum element in the list\n",
      "        minimum_element = new_list[0]\n",
      "        new_list = new_list[1:]\n",
      "\n",
      "        #Mark the first element as first\n",
      "        new_list[0] = minimum_element\n",
      "\n",
      "        #Compare the minimum element with all other elements in the list\n",
      "        #to mark the smaller element as first.\n",
      "        #When a larger element\n"
     ]
    }
   ],
   "source": [
    "res = generate_text(\"give me a demo of bubble sort algorithm in python\")\n",
    "print(res[0][\"generated_text\"])"
   ]
  }
 ],
 "metadata": {
  "kernelspec": {
   "display_name": "chatglm",
   "language": "python",
   "name": "python3"
  },
  "language_info": {
   "codemirror_mode": {
    "name": "ipython",
    "version": 3
   },
   "file_extension": ".py",
   "mimetype": "text/x-python",
   "name": "python",
   "nbconvert_exporter": "python",
   "pygments_lexer": "ipython3",
   "version": "3.8.16"
  },
  "orig_nbformat": 4
 },
 "nbformat": 4,
 "nbformat_minor": 2
}
