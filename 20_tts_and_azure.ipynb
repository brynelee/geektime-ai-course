{
 "cells": [
  {
   "cell_type": "code",
   "execution_count": 7,
   "metadata": {},
   "outputs": [
    {
     "data": {
      "text/plain": [
       "<azure.cognitiveservices.speech.ResultFuture at 0x7fae87fca230>"
      ]
     },
     "execution_count": 7,
     "metadata": {},
     "output_type": "execute_result"
    }
   ],
   "source": [
    "import os\n",
    "import azure.cognitiveservices.speech as speechsdk\n",
    "\n",
    "speech_config = speechsdk.SpeechConfig(subscription=os.environ.get('COGNITIVE_SERVICE_KEY'), region=os.environ.get('AZURE_SPEECH_REGION'))\n",
    "audio_config = speechsdk.audio.AudioOutputConfig(use_default_speaker=True)\n",
    "\n",
    "# The language of the voice that speaks.\n",
    "speech_config.speech_synthesis_language='zh-CN'\n",
    "speech_config.speech_synthesis_voice_name='zh-CN-XiaohanNeural'\n",
    "\n",
    "speech_synthesizer = speechsdk.SpeechSynthesizer(speech_config=speech_config, audio_config=audio_config)\n",
    "\n",
    "text = \"今天天气真不错，DJNobody是个好同学。\"\n",
    "\n",
    "speech_synthesizer.speak_text_async(text)"
   ]
  },
  {
   "attachments": {},
   "cell_type": "markdown",
   "metadata": {},
   "source": [
    "## 使用男声"
   ]
  },
  {
   "cell_type": "code",
   "execution_count": 2,
   "metadata": {},
   "outputs": [
    {
     "data": {
      "text/plain": [
       "<azure.cognitiveservices.speech.ResultFuture at 0x7fae87fca770>"
      ]
     },
     "execution_count": 2,
     "metadata": {},
     "output_type": "execute_result"
    }
   ],
   "source": [
    "speech_config.speech_synthesis_voice_name='zh-CN-YunfengNeural'\n",
    "speech_synthesizer = speechsdk.SpeechSynthesizer(speech_config=speech_config, audio_config=audio_config)\n",
    "speech_synthesizer.speak_text_async(text)"
   ]
  },
  {
   "attachments": {},
   "cell_type": "markdown",
   "metadata": {},
   "source": [
    "## 自定义语气和角色"
   ]
  },
  {
   "cell_type": "code",
   "execution_count": 3,
   "metadata": {},
   "outputs": [],
   "source": [
    "ssml = \"\"\"<speak version=\"1.0\" xmlns=\"http://www.w3.org/2001/10/synthesis\"\n",
    "       xmlns:mstts=\"https://www.w3.org/2001/mstts\" xml:lang=\"zh-CN\">\n",
    "    <voice name=\"zh-CN-YunyeNeural\">\n",
    "        儿子看见母亲走了过来，说到：\n",
    "        <mstts:express-as role=\"Boy\" style=\"cheerful\">\n",
    "            “妈妈，我想要买个新玩具”\n",
    "        </mstts:express-as>\n",
    "    </voice>\n",
    "    <voice name=\"zh-CN-XiaomoNeural\">\n",
    "        母亲放下包，说：\n",
    "        <mstts:express-as role=\"SeniorFemale\" style=\"angry\">\n",
    "            “我看你长得像个玩具。”\n",
    "        </mstts:express-as>\n",
    "    </voice>\n",
    "</speak>\"\"\"\n",
    "\n",
    "speech_synthesis_result = speech_synthesizer.speak_ssml_async(ssml).get()"
   ]
  },
  {
   "cell_type": "code",
   "execution_count": 4,
   "metadata": {},
   "outputs": [],
   "source": [
    "ssml = \"\"\"<speak version=\"1.0\" xmlns=\"http://www.w3.org/2001/10/synthesis\"\n",
    "       xmlns:mstts=\"https://www.w3.org/2001/mstts\" xml:lang=\"en-US\">\n",
    "    <voice name=\"en-US-JennyNeural\">\n",
    "        <mstts:express-as style=\"excited\">\n",
    "            That'd be just amazing!\n",
    "        </mstts:express-as>\n",
    "        <mstts:express-as style=\"friendly\">\n",
    "            What's next?\n",
    "        </mstts:express-as>\n",
    "    </voice>\n",
    "</speak>\"\"\"\n",
    "\n",
    "speech_synthesis_result = speech_synthesizer.speak_ssml_async(ssml).get()"
   ]
  },
  {
   "attachments": {},
   "cell_type": "markdown",
   "metadata": {},
   "source": [
    "## 输出到文件"
   ]
  },
  {
   "cell_type": "code",
   "execution_count": 8,
   "metadata": {},
   "outputs": [
    {
     "data": {
      "text/plain": [
       "<azure.cognitiveservices.speech.ResultFuture at 0x7fae87fc9d80>"
      ]
     },
     "execution_count": 8,
     "metadata": {},
     "output_type": "execute_result"
    }
   ],
   "source": [
    "audio_config = speechsdk.audio.AudioOutputConfig(filename=\"./data/tts.wav\")\n",
    "\n",
    "speech_config.speech_synthesis_language='zh-CN'\n",
    "speech_config.speech_synthesis_voice_name='zh-CN-XiaohanNeural'\n",
    "\n",
    "speech_synthesizer = speechsdk.SpeechSynthesizer(speech_config=speech_config, audio_config=audio_config)\n",
    "\n",
    "text = \"今天天气真不错，我们一起出去看看风景吧。\"\n",
    "\n",
    "speech_synthesizer.speak_text_async(text)\n"
   ]
  },
  {
   "attachments": {},
   "cell_type": "markdown",
   "metadata": {},
   "source": [
    "## 输出成MP3"
   ]
  },
  {
   "cell_type": "code",
   "execution_count": 9,
   "metadata": {},
   "outputs": [],
   "source": [
    "speech_config.set_speech_synthesis_output_format(speechsdk.SpeechSynthesisOutputFormat.Audio48Khz192KBitRateMonoMp3)\n",
    "\n",
    "speech_synthesizer = speechsdk.SpeechSynthesizer(speech_config=speech_config, audio_config=None)\n",
    "result = speech_synthesizer.speak_text_async(text).get()\n",
    "stream =speechsdk.AudioDataStream(result)\n",
    "\n",
    "stream.save_to_wav_file(\"./data/tts.mp3\")"
   ]
  },
  {
   "attachments": {},
   "cell_type": "markdown",
   "metadata": {},
   "source": [
    "## PaddlePaddle语音合成"
   ]
  },
  {
   "cell_type": "code",
   "execution_count": 2,
   "metadata": {},
   "outputs": [
    {
     "name": "stderr",
     "output_type": "stream",
     "text": [
      "[nltk_data] Downloading package averaged_perceptron_tagger to\n",
      "[nltk_data]     /home/xiaodong/nltk_data...\n",
      "[nltk_data]   Unzipping taggers/averaged_perceptron_tagger.zip.\n",
      "/home/xiaodong/anaconda3/envs/paddle/lib/python3.10/site-packages/librosa/core/constantq.py:1059: DeprecationWarning: `np.complex` is a deprecated alias for the builtin `complex`. To silence this warning, use `complex` by itself. Doing this will not modify any behavior and is safe. If you specifically wanted the numpy scalar type, use `np.complex128` here.\n",
      "Deprecated in NumPy 1.20; for more details and guidance: https://numpy.org/devdocs/release/1.20.0-notes.html#deprecations\n",
      "  dtype=np.complex,\n",
      "/home/xiaodong/anaconda3/envs/paddle/lib/python3.10/site-packages/tqdm/auto.py:21: TqdmWarning: IProgress not found. Please update jupyter and ipywidgets. See https://ipywidgets.readthedocs.io/en/stable/user_install.html\n",
      "  from .autonotebook import tqdm as notebook_tqdm\n",
      "/home/xiaodong/anaconda3/envs/paddle/lib/python3.10/site-packages/_distutils_hack/__init__.py:33: UserWarning: Setuptools is replacing distutils.\n",
      "  warnings.warn(\"Setuptools is replacing distutils.\")\n",
      "\u001b[32m[2023-06-02 00:30:57,609] [    INFO]\u001b[0m - Already cached /home/xiaodong/.paddlenlp/models/bert-base-chinese/bert-base-chinese-vocab.txt\u001b[0m\n",
      "\u001b[32m[2023-06-02 00:30:57,615] [    INFO]\u001b[0m - tokenizer config file saved in /home/xiaodong/.paddlenlp/models/bert-base-chinese/tokenizer_config.json\u001b[0m\n",
      "\u001b[32m[2023-06-02 00:30:57,616] [    INFO]\u001b[0m - Special tokens file saved in /home/xiaodong/.paddlenlp/models/bert-base-chinese/special_tokens_map.json\u001b[0m\n",
      "W0602 00:30:57.789712 27035 gpu_resources.cc:61] Please NOTE: device: 0, GPU Compute Capability: 8.6, Driver API Version: 12.1, Runtime API Version: 11.7\n",
      "W0602 00:30:57.790331 27035 gpu_resources.cc:91] device: 0, cuDNN Version: 8.9.\n",
      "Building prefix dict from the default dictionary ...\n",
      "[2023-06-02 00:31:00,814] [   DEBUG] __init__.py:113 - Building prefix dict from the default dictionary ...\n",
      "Loading model from cache /tmp/jieba.cache\n",
      "[2023-06-02 00:31:00,815] [   DEBUG] __init__.py:132 - Loading model from cache /tmp/jieba.cache\n",
      "Loading model cost 0.347 seconds.\n",
      "[2023-06-02 00:31:01,161] [   DEBUG] __init__.py:164 - Loading model cost 0.347 seconds.\n",
      "Prefix dict has been built successfully.\n",
      "[2023-06-02 00:31:01,162] [   DEBUG] __init__.py:166 - Prefix dict has been built successfully.\n"
     ]
    },
    {
     "data": {
      "text/plain": [
       "'/home/xiaodong/Gitroot/geektime-ai-course/data/paddlespeech.wav'"
      ]
     },
     "execution_count": 2,
     "metadata": {},
     "output_type": "execute_result"
    }
   ],
   "source": [
    "from paddlespeech.cli.tts.infer import TTSExecutor\n",
    "\n",
    "tts_executor = TTSExecutor()\n",
    "\n",
    "text = \"今天天气十分不错，百度也能做语音合成。我们来介绍一下文本到语音的主要技术。\"\n",
    "output_file = \"./data/paddlespeech.wav\"\n",
    "tts_executor(text=text, output=output_file)\n"
   ]
  },
  {
   "cell_type": "code",
   "execution_count": 3,
   "metadata": {},
   "outputs": [
    {
     "name": "stderr",
     "output_type": "stream",
     "text": [
      "ALSA lib pcm_dmix.c:1032:(snd_pcm_dmix_open) unable to open slave\n",
      "ALSA lib pcm.c:2664:(snd_pcm_open_noupdate) Unknown PCM cards.pcm.rear\n",
      "ALSA lib pcm.c:2664:(snd_pcm_open_noupdate) Unknown PCM cards.pcm.center_lfe\n",
      "ALSA lib pcm.c:2664:(snd_pcm_open_noupdate) Unknown PCM cards.pcm.side\n",
      "ALSA lib pcm_route.c:877:(find_matching_chmap) Found no matching channel map\n",
      "ALSA lib pcm_oss.c:397:(_snd_pcm_oss_open) Cannot open device /dev/dsp\n",
      "ALSA lib pcm_oss.c:397:(_snd_pcm_oss_open) Cannot open device /dev/dsp\n",
      "ALSA lib confmisc.c:160:(snd_config_get_card) Invalid field card\n",
      "ALSA lib pcm_usb_stream.c:482:(_snd_pcm_usb_stream_open) Invalid card 'card'\n",
      "ALSA lib confmisc.c:160:(snd_config_get_card) Invalid field card\n",
      "ALSA lib pcm_usb_stream.c:482:(_snd_pcm_usb_stream_open) Invalid card 'card'\n",
      "ALSA lib pcm_dmix.c:1032:(snd_pcm_dmix_open) unable to open slave\n",
      "ALSA lib pcm.c:8568:(snd_pcm_recover) underrun occurred\n"
     ]
    }
   ],
   "source": [
    "import wave\n",
    "import pyaudio\n",
    "\n",
    "\n",
    "def play_wav_audio(wav_file):\n",
    "    # open the wave file\n",
    "    wf = wave.open(wav_file, 'rb')\n",
    "\n",
    "    # instantiate PyAudio\n",
    "    p = pyaudio.PyAudio()\n",
    "\n",
    "    # open a stream\n",
    "    stream = p.open(format=p.get_format_from_width(wf.getsampwidth()),\n",
    "                    channels=wf.getnchannels(),\n",
    "                    rate=wf.getframerate(),\n",
    "                    output=True)\n",
    "\n",
    "    # read data from the wave file and play it\n",
    "    data = wf.readframes(1024)\n",
    "    while data:\n",
    "        stream.write(data)\n",
    "        data = wf.readframes(1024)\n",
    "\n",
    "    # close the stream and terminate PyAudio\n",
    "    stream.stop_stream()\n",
    "    stream.close()\n",
    "    p.terminate()\n",
    "\n",
    "play_wav_audio(output_file)"
   ]
  },
  {
   "attachments": {},
   "cell_type": "markdown",
   "metadata": {},
   "source": [
    "## 英文内容丢失"
   ]
  },
  {
   "cell_type": "code",
   "execution_count": 4,
   "metadata": {},
   "outputs": [
    {
     "name": "stderr",
     "output_type": "stream",
     "text": [
      "\u001b[32m[2023-06-02 00:31:19,694] [    INFO]\u001b[0m - Already cached /home/xiaodong/.paddlenlp/models/bert-base-chinese/bert-base-chinese-vocab.txt\u001b[0m\n",
      "\u001b[32m[2023-06-02 00:31:19,700] [    INFO]\u001b[0m - tokenizer config file saved in /home/xiaodong/.paddlenlp/models/bert-base-chinese/tokenizer_config.json\u001b[0m\n",
      "\u001b[32m[2023-06-02 00:31:19,700] [    INFO]\u001b[0m - Special tokens file saved in /home/xiaodong/.paddlenlp/models/bert-base-chinese/special_tokens_map.json\u001b[0m\n",
      "ALSA lib pcm_dmix.c:1032:(snd_pcm_dmix_open) unable to open slave\n",
      "ALSA lib pcm.c:2664:(snd_pcm_open_noupdate) Unknown PCM cards.pcm.rear\n",
      "ALSA lib pcm.c:2664:(snd_pcm_open_noupdate) Unknown PCM cards.pcm.center_lfe\n",
      "ALSA lib pcm.c:2664:(snd_pcm_open_noupdate) Unknown PCM cards.pcm.side\n",
      "ALSA lib pcm_route.c:877:(find_matching_chmap) Found no matching channel map\n",
      "ALSA lib pcm_oss.c:397:(_snd_pcm_oss_open) Cannot open device /dev/dsp\n",
      "ALSA lib pcm_oss.c:397:(_snd_pcm_oss_open) Cannot open device /dev/dsp\n",
      "ALSA lib confmisc.c:160:(snd_config_get_card) Invalid field card\n",
      "ALSA lib pcm_usb_stream.c:482:(_snd_pcm_usb_stream_open) Invalid card 'card'\n",
      "ALSA lib confmisc.c:160:(snd_config_get_card) Invalid field card\n",
      "ALSA lib pcm_usb_stream.c:482:(_snd_pcm_usb_stream_open) Invalid card 'card'\n",
      "ALSA lib pcm_dmix.c:1032:(snd_pcm_dmix_open) unable to open slave\n",
      "ALSA lib pcm.c:8568:(snd_pcm_recover) underrun occurred\n"
     ]
    }
   ],
   "source": [
    "tts_executor = TTSExecutor()\n",
    "\n",
    "text = \"今天天气十分不错，PaddleSpeech也能做语音合成。\"\n",
    "output_file = \"./data/paddlespeech_missing.wav\"\n",
    "tts_executor(text=text, output=output_file)\n",
    "\n",
    "play_wav_audio(output_file)"
   ]
  },
  {
   "attachments": {},
   "cell_type": "markdown",
   "metadata": {},
   "source": [
    "## 选用合适模型，提供中英文混合效果"
   ]
  },
  {
   "cell_type": "code",
   "execution_count": 6,
   "metadata": {},
   "outputs": [
    {
     "name": "stderr",
     "output_type": "stream",
     "text": [
      "\u001b[32m[2023-06-02 00:31:57,324] [    INFO]\u001b[0m - Already cached /home/xiaodong/.paddlenlp/models/bert-base-chinese/bert-base-chinese-vocab.txt\u001b[0m\n",
      "\u001b[32m[2023-06-02 00:31:57,329] [    INFO]\u001b[0m - tokenizer config file saved in /home/xiaodong/.paddlenlp/models/bert-base-chinese/tokenizer_config.json\u001b[0m\n",
      "\u001b[32m[2023-06-02 00:31:57,329] [    INFO]\u001b[0m - Special tokens file saved in /home/xiaodong/.paddlenlp/models/bert-base-chinese/special_tokens_map.json\u001b[0m\n",
      "ALSA lib pcm_dmix.c:1032:(snd_pcm_dmix_open) unable to open slave\n",
      "ALSA lib pcm.c:2664:(snd_pcm_open_noupdate) Unknown PCM cards.pcm.rear\n",
      "ALSA lib pcm.c:2664:(snd_pcm_open_noupdate) Unknown PCM cards.pcm.center_lfe\n",
      "ALSA lib pcm.c:2664:(snd_pcm_open_noupdate) Unknown PCM cards.pcm.side\n",
      "ALSA lib pcm_route.c:877:(find_matching_chmap) Found no matching channel map\n",
      "ALSA lib pcm_oss.c:397:(_snd_pcm_oss_open) Cannot open device /dev/dsp\n",
      "ALSA lib pcm_oss.c:397:(_snd_pcm_oss_open) Cannot open device /dev/dsp\n",
      "ALSA lib confmisc.c:160:(snd_config_get_card) Invalid field card\n",
      "ALSA lib pcm_usb_stream.c:482:(_snd_pcm_usb_stream_open) Invalid card 'card'\n",
      "ALSA lib confmisc.c:160:(snd_config_get_card) Invalid field card\n",
      "ALSA lib pcm_usb_stream.c:482:(_snd_pcm_usb_stream_open) Invalid card 'card'\n",
      "ALSA lib pcm_dmix.c:1032:(snd_pcm_dmix_open) unable to open slave\n",
      "ALSA lib pcm.c:8568:(snd_pcm_recover) underrun occurred\n"
     ]
    }
   ],
   "source": [
    "tts_executor = TTSExecutor()\n",
    "\n",
    "text = \"早上好, how are you? 百度Paddle Speech一样能做中英文混合的语音合成。\"\n",
    "output_file = \"./data/paddlespeech_mix.wav\"\n",
    "tts_executor(text=text, output=output_file, \n",
    "             am=\"fastspeech2_mix\", voc=\"hifigan_csmsc\", \n",
    "             lang=\"mix\", spk_id=174)\n",
    "\n",
    "play_wav_audio(output_file)"
   ]
  },
  {
   "cell_type": "code",
   "execution_count": 10,
   "metadata": {},
   "outputs": [
    {
     "name": "stderr",
     "output_type": "stream",
     "text": [
      "\u001b[32m[2023-06-02 00:33:42,360] [    INFO]\u001b[0m - Already cached /home/xiaodong/.paddlenlp/models/bert-base-chinese/bert-base-chinese-vocab.txt\u001b[0m\n",
      "\u001b[32m[2023-06-02 00:33:42,365] [    INFO]\u001b[0m - tokenizer config file saved in /home/xiaodong/.paddlenlp/models/bert-base-chinese/tokenizer_config.json\u001b[0m\n",
      "\u001b[32m[2023-06-02 00:33:42,366] [    INFO]\u001b[0m - Special tokens file saved in /home/xiaodong/.paddlenlp/models/bert-base-chinese/special_tokens_map.json\u001b[0m\n",
      "ALSA lib pcm_dmix.c:1032:(snd_pcm_dmix_open) unable to open slave\n",
      "ALSA lib pcm.c:2664:(snd_pcm_open_noupdate) Unknown PCM cards.pcm.rear\n",
      "ALSA lib pcm.c:2664:(snd_pcm_open_noupdate) Unknown PCM cards.pcm.center_lfe\n",
      "ALSA lib pcm.c:2664:(snd_pcm_open_noupdate) Unknown PCM cards.pcm.side\n",
      "ALSA lib pcm_route.c:877:(find_matching_chmap) Found no matching channel map\n",
      "ALSA lib pcm_oss.c:397:(_snd_pcm_oss_open) Cannot open device /dev/dsp\n",
      "ALSA lib pcm_oss.c:397:(_snd_pcm_oss_open) Cannot open device /dev/dsp\n",
      "ALSA lib confmisc.c:160:(snd_config_get_card) Invalid field card\n",
      "ALSA lib pcm_usb_stream.c:482:(_snd_pcm_usb_stream_open) Invalid card 'card'\n",
      "ALSA lib confmisc.c:160:(snd_config_get_card) Invalid field card\n",
      "ALSA lib pcm_usb_stream.c:482:(_snd_pcm_usb_stream_open) Invalid card 'card'\n",
      "ALSA lib pcm_dmix.c:1032:(snd_pcm_dmix_open) unable to open slave\n"
     ]
    }
   ],
   "source": [
    "tts_executor = TTSExecutor()\n",
    "\n",
    "text = \"早上好, how are you? 百度Paddle Speech一样能做中英文混合的语音合成。\"\n",
    "output_file = \"./data/paddlespeech_mix_another.wav\"\n",
    "tts_executor(text=text, output=output_file, \n",
    "             am=\"fastspeech2_mix\", voc=\"hifigan_csmsc\", \n",
    "             lang=\"mix\", spk_id=175)\n",
    "\n",
    "play_wav_audio(output_file)"
   ]
  },
  {
   "cell_type": "code",
   "execution_count": null,
   "metadata": {},
   "outputs": [],
   "source": []
  }
 ],
 "metadata": {
  "kernelspec": {
   "display_name": "geektime",
   "language": "python",
   "name": "python3"
  },
  "language_info": {
   "codemirror_mode": {
    "name": "ipython",
    "version": 3
   },
   "file_extension": ".py",
   "mimetype": "text/x-python",
   "name": "python",
   "nbconvert_exporter": "python",
   "pygments_lexer": "ipython3",
   "version": "3.10.11"
  },
  "orig_nbformat": 4
 },
 "nbformat": 4,
 "nbformat_minor": 2
}
